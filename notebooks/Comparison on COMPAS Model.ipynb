{
 "cells": [
  {
   "cell_type": "code",
   "execution_count": 1,
   "metadata": {},
   "outputs": [],
   "source": [
    "import sys\n",
    "sys.path.append(\"../\")"
   ]
  },
  {
   "cell_type": "code",
   "execution_count": 2,
   "metadata": {},
   "outputs": [],
   "source": [
    "import numpy as np\n",
    "import pandas as pd\n",
    "import tensorflow as tf\n",
    "import matplotlib.pyplot as plt\n",
    "import seaborn as sns\n",
    "sns.set()\n",
    "from sklearn import feature_extraction\n",
    "from sklearn import preprocessing"
   ]
  },
  {
   "cell_type": "code",
   "execution_count": 3,
   "metadata": {},
   "outputs": [],
   "source": [
    "df = pd.read_csv(\"../data/compas-scores-two-years.csv\")\n",
    "\n",
    "# Filters from mbilalzafar/fair-classification.\n",
    "df = df.dropna(subset=[\"days_b_screening_arrest\"]) # Dropping missing values.\n",
    "idx = np.logical_and(df[\"days_b_screening_arrest\"]<=30, df[\"days_b_screening_arrest\"]>=-30)\n",
    "idx = np.logical_and(idx, df[\"is_recid\"] != -1)\n",
    "idx = np.logical_and(idx, df[\"c_charge_degree\"] != \"O\") # F: felony, M: misconduct\n",
    "idx = np.logical_and(idx, df[\"score_text\"] != \"NA\")\n",
    "idx = np.logical_and(idx, np.logical_or(df[\"race\"] == \"African-American\", df[\"race\"] == \"Caucasian\"))\n",
    "df = df[idx]\n",
    "\n",
    "priors_count = np.reshape(preprocessing.scale(df[\"priors_count\"]), (-1, 1))\n",
    "age_cat = preprocessing.LabelBinarizer().fit(df[\"age_cat\"]).transform(df[\"age_cat\"])\n",
    "race = preprocessing.LabelBinarizer().fit(df[\"race\"]).transform(df[\"race\"])\n",
    "sex = preprocessing.LabelBinarizer().fit(df[\"sex\"]).transform(df[\"sex\"])\n",
    "c_charge_degree = preprocessing.LabelBinarizer().fit(df[\"c_charge_degree\"]).transform(df[\"c_charge_degree\"])\n",
    "\n",
    "feature_data = np.hstack((\n",
    "    priors_count,\n",
    "    age_cat,\n",
    "    race,\n",
    "    sex,\n",
    "    c_charge_degree\n",
    "))\n",
    "\n",
    "target_data = np.reshape(np.array(df[\"two_year_recid\"]), (-1, 1))\n",
    "\n",
    "train_idxs = range(0, 4278)\n",
    "test_idxs = range(4278, 5278)"
   ]
  },
  {
   "cell_type": "code",
   "execution_count": 4,
   "metadata": {},
   "outputs": [],
   "source": [
    "influence_data = np.load(\"../output/influence_model_on_compas.npz\")\n",
    "influence_values = influence_data[\"influence_values\"]\n",
    "theta_relatif_values = influence_data[\"theta_relatif_values\"]\n",
    "l_relatif_values = influence_data[\"l_relatif_values\"]\n",
    "\n",
    "representer_data = np.load(\"../output/representer_model_on_compas.npz\")\n",
    "representer_values = representer_data[\"representer_values\"]"
   ]
  },
  {
   "cell_type": "code",
   "execution_count": 5,
   "metadata": {},
   "outputs": [
    {
     "name": "stdout",
     "output_type": "stream",
     "text": [
      "4278 training points, 1000 test points.\n"
     ]
    }
   ],
   "source": [
    "(num_training_points, num_test_points) = influence_values.shape\n",
    "print(\"{} training points, {} test points.\".format(num_training_points, num_test_points))"
   ]
  },
  {
   "cell_type": "code",
   "execution_count": 6,
   "metadata": {},
   "outputs": [],
   "source": [
    "influence_idxs = np.argsort(influence_values, axis=0)\n",
    "theta_relatif_idxs = np.argsort(theta_relatif_values, axis=0)\n",
    "l_relatif_idxs = np.argsort(l_relatif_values, axis=0)\n",
    "\n",
    "# Positive representer values are excitatory points, opposite of influence.\n",
    "representer_idxs = np.flip(np.argsort(representer_values, axis=0), axis=0)"
   ]
  },
  {
   "cell_type": "markdown",
   "metadata": {},
   "source": [
    "## Comparing Number of Unique Points"
   ]
  },
  {
   "cell_type": "code",
   "execution_count": 7,
   "metadata": {},
   "outputs": [],
   "source": [
    "num_test_points_to_compare = num_test_points\n",
    "num_most_influential_to_include = 5"
   ]
  },
  {
   "cell_type": "markdown",
   "metadata": {},
   "source": [
    "### Influence Functions"
   ]
  },
  {
   "cell_type": "code",
   "execution_count": 8,
   "metadata": {},
   "outputs": [
    {
     "data": {
      "text/plain": [
       "633"
      ]
     },
     "execution_count": 8,
     "metadata": {},
     "output_type": "execute_result"
    }
   ],
   "source": [
    "len(np.unique(influence_idxs[:num_most_influential_to_include, :num_test_points_to_compare]))"
   ]
  },
  {
   "cell_type": "markdown",
   "metadata": {},
   "source": [
    "### $\\theta$-RelatIF"
   ]
  },
  {
   "cell_type": "code",
   "execution_count": 9,
   "metadata": {},
   "outputs": [
    {
     "data": {
      "text/plain": [
       "1239"
      ]
     },
     "execution_count": 9,
     "metadata": {},
     "output_type": "execute_result"
    }
   ],
   "source": [
    "len(np.unique(theta_relatif_idxs[:num_most_influential_to_include, :num_test_points_to_compare]))"
   ]
  },
  {
   "cell_type": "markdown",
   "metadata": {},
   "source": [
    "### $l$-RelatIF"
   ]
  },
  {
   "cell_type": "code",
   "execution_count": 10,
   "metadata": {},
   "outputs": [
    {
     "data": {
      "text/plain": [
       "1350"
      ]
     },
     "execution_count": 10,
     "metadata": {},
     "output_type": "execute_result"
    }
   ],
   "source": [
    "len(np.unique(l_relatif_idxs[:num_most_influential_to_include, :num_test_points_to_compare]))"
   ]
  },
  {
   "cell_type": "markdown",
   "metadata": {},
   "source": [
    "### Representer Points"
   ]
  },
  {
   "cell_type": "code",
   "execution_count": 11,
   "metadata": {},
   "outputs": [
    {
     "data": {
      "text/plain": [
       "201"
      ]
     },
     "execution_count": 11,
     "metadata": {},
     "output_type": "execute_result"
    }
   ],
   "source": [
    "len(np.unique(representer_idxs[:num_most_influential_to_include, :num_test_points_to_compare]))"
   ]
  }
 ],
 "metadata": {
  "kernelspec": {
   "display_name": "Python 3",
   "language": "python",
   "name": "python3"
  },
  "language_info": {
   "codemirror_mode": {
    "name": "ipython",
    "version": 3
   },
   "file_extension": ".py",
   "mimetype": "text/x-python",
   "name": "python",
   "nbconvert_exporter": "python",
   "pygments_lexer": "ipython3",
   "version": "3.7.9"
  }
 },
 "nbformat": 4,
 "nbformat_minor": 4
}
