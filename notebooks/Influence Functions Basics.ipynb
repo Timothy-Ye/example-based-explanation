{
 "cells": [
  {
   "cell_type": "code",
   "execution_count": 1,
   "metadata": {},
   "outputs": [],
   "source": [
    "import numpy as np\n",
    "import tensorflow as tf"
   ]
  },
  {
   "cell_type": "code",
   "execution_count": 2,
   "metadata": {},
   "outputs": [],
   "source": [
    "import sys\n",
    "sys.path.append('../')"
   ]
  },
  {
   "cell_type": "code",
   "execution_count": 3,
   "metadata": {},
   "outputs": [],
   "source": [
    "from influence.influence_model import InfluenceModel"
   ]
  },
  {
   "cell_type": "code",
   "execution_count": 4,
   "metadata": {},
   "outputs": [
    {
     "name": "stdout",
     "output_type": "stream",
     "text": [
      "Epoch 1/10\n",
      "1875/1875 [==============================] - 1s 711us/step - loss: 0.8448 - accuracy: 0.7835\n",
      "Epoch 2/10\n",
      "1875/1875 [==============================] - 1s 697us/step - loss: 0.7640 - accuracy: 0.8118\n",
      "Epoch 3/10\n",
      "1875/1875 [==============================] - 1s 767us/step - loss: 0.7640 - accuracy: 0.8117\n",
      "Epoch 4/10\n",
      "1875/1875 [==============================] - 2s 1ms/step - loss: 0.7641 - accuracy: 0.8126\n",
      "Epoch 5/10\n",
      "1875/1875 [==============================] - 1s 745us/step - loss: 0.7632 - accuracy: 0.8131\n",
      "Epoch 6/10\n",
      "1875/1875 [==============================] - 1s 752us/step - loss: 0.7625 - accuracy: 0.8142\n",
      "Epoch 7/10\n",
      "1875/1875 [==============================] - 1s 749us/step - loss: 0.7634 - accuracy: 0.8132\n",
      "Epoch 8/10\n",
      "1875/1875 [==============================] - 1s 752us/step - loss: 0.7630 - accuracy: 0.8125\n",
      "Epoch 9/10\n",
      "1875/1875 [==============================] - 1s 715us/step - loss: 0.7630 - accuracy: 0.8131\n",
      "Epoch 10/10\n",
      "1875/1875 [==============================] - 1s 729us/step - loss: 0.7632 - accuracy: 0.8148\n"
     ]
    },
    {
     "data": {
      "text/plain": [
       "<tensorflow.python.keras.callbacks.History at 0x2e3b325f648>"
      ]
     },
     "execution_count": 4,
     "metadata": {},
     "output_type": "execute_result"
    }
   ],
   "source": [
    "fashion_mnist = tf.keras.datasets.fashion_mnist\n",
    "\n",
    "(train_images, train_labels), (test_images, test_labels) = fashion_mnist.load_data()\n",
    "\n",
    "class_names = ['T-shirt/top', 'Trouser', 'Pullover', 'Dress', 'Coat',\n",
    "               'Sandal', 'Shirt', 'Sneaker', 'Bag', 'Ankle boot']\n",
    "\n",
    "train_images = train_images / 255.0\n",
    "test_images = test_images / 255.0\n",
    "\n",
    "train_labels = tf.keras.utils.to_categorical(train_labels)\n",
    "test_labels = tf.keras.utils.to_categorical(test_labels)\n",
    "\n",
    "tf.keras.backend.set_floatx('float64')\n",
    "\n",
    "model = tf.keras.Sequential([\n",
    "    tf.keras.layers.Flatten(input_shape=(28, 28)),\n",
    "    tf.keras.layers.Dense(10, kernel_regularizer='l2', bias_regularizer='l2')\n",
    "])\n",
    "\n",
    "model.compile(optimizer='adam',\n",
    "              loss=tf.keras.losses.CategoricalCrossentropy(from_logits=True),\n",
    "              metrics=['accuracy'])\n",
    "\n",
    "model.fit(train_images, train_labels, epochs=10)"
   ]
  },
  {
   "cell_type": "code",
   "execution_count": 5,
   "metadata": {},
   "outputs": [],
   "source": [
    "influence_model = InfluenceModel(\n",
    "    model,\n",
    "    train_images,\n",
    "    train_labels,\n",
    "    test_images,\n",
    "    test_labels,\n",
    "    model.loss,\n",
    "    damping=0.2,\n",
    "    verbose=True,\n",
    "    dtype=np.float64\n",
    ")"
   ]
  },
  {
   "cell_type": "code",
   "execution_count": 6,
   "metadata": {
    "scrolled": true
   },
   "outputs": [
    {
     "name": "stdout",
     "output_type": "stream",
     "text": [
      "Calculating inverse HVP using Conjugate Gradient method:\n",
      "Current error: 0.7839089510817655 , Relative error: 0.6329849239809454\n",
      "Current error: 0.8542582485653691 , Relative error: 0.6897900474054476\n",
      "Current error: 0.4018467745178628 , Relative error: 0.32448022142005906\n",
      "Current error: 0.44385794356562075 , Relative error: 0.35840308530539816\n",
      "Current error: 0.43379738011163904 , Relative error: 0.35027945693715945\n",
      "Current error: 0.4096740294836777 , Relative error: 0.33080051459017623\n",
      "Current error: 0.29862926979137516 , Relative error: 0.2411349243767754\n",
      "Current error: 0.21130842212629908 , Relative error: 0.17062574082305337\n",
      "Current error: 0.10796982625199027 , Relative error: 0.08718266600737336\n",
      "Current error: 0.13073723728599432 , Relative error: 0.10556672441455796\n",
      "Current error: 0.10193906684142102 , Relative error: 0.08231299360246115\n",
      "Current error: 0.09489614197561537 , Relative error: 0.07662602542250412\n",
      "Current error: 0.08306363917149046 , Relative error: 0.06707160474949395\n",
      "Current error: 0.051719476969973054 , Relative error: 0.04176205559714033\n",
      "Current error: 0.036058043702927554 , Relative error: 0.02911587885391875\n",
      "Current error: 0.014834180011123355 , Relative error: 0.01197819248485807\n",
      "Current error: 0.018636636221780304 , Relative error: 0.01504857132429106\n",
      "Current error: 0.010292837450547251 , Relative error: 0.0083111832339612\n",
      "Current error: 0.009542126543795116 , Relative error: 0.007705004817977527\n",
      "Current error: 0.01071907326814134 , Relative error: 0.008655356937074851\n",
      "Current error: 0.012735114846815686 , Relative error: 0.010283255079657102\n",
      "Current error: 0.009580700207619969 , Relative error: 0.00773615199091151\n",
      "Current error: 0.0035736518208006546 , Relative error: 0.0028856255857294386\n",
      "Current error: 0.0032021492132287815 , Relative error: 0.0025856474447883268\n",
      "Current error: 0.003424589325492084 , Relative error: 0.002765261719324928\n",
      "Current error: 0.0026298396867601467 , Relative error: 0.002123523238137274\n",
      "Current error: 0.001651513468830369 , Relative error: 0.0013335517167886758\n",
      "Current error: 0.0011950785711590934 , Relative error: 0.0009649930868533894\n",
      "Current error: 0.0005783046186226905 , Relative error: 0.00046696507872702133\n",
      "Current error: 0.0009685592472583396 , Relative error: 0.0007820849610797648\n",
      "Current error: 0.000504204886229707 , Relative error: 0.0004071315822335124\n",
      "Current error: 0.00035198665584778666 , Relative error: 0.00028421954652598305\n",
      "Current error: 0.000281181240877574 , Relative error: 0.0002270461207722509\n",
      "Current error: 0.00023958733346974087 , Relative error: 0.00019346018418830757\n",
      "Current error: 0.0002061705335607353 , Relative error: 0.00016647703707549691\n",
      "Optimization terminated successfully.\n",
      "         Current function value: -0.656360\n",
      "         Iterations: 35\n",
      "         Function evaluations: 63\n",
      "         Gradient evaluations: 63\n"
     ]
    },
    {
     "data": {
      "text/plain": [
       "-1.2443497044327205"
      ]
     },
     "execution_count": 6,
     "metadata": {},
     "output_type": "execute_result"
    }
   ],
   "source": [
    "influence_model.get_influence_on_loss(0, 0)"
   ]
  },
  {
   "cell_type": "code",
   "execution_count": 7,
   "metadata": {},
   "outputs": [
    {
     "data": {
      "text/plain": [
       "-0.6052791994845195"
      ]
     },
     "execution_count": 7,
     "metadata": {},
     "output_type": "execute_result"
    }
   ],
   "source": [
    "influence_model.get_theta_relatif(0, 0)"
   ]
  },
  {
   "cell_type": "code",
   "execution_count": 8,
   "metadata": {},
   "outputs": [
    {
     "data": {
      "text/plain": [
       "-1.0861122134592425"
      ]
     },
     "execution_count": 8,
     "metadata": {},
     "output_type": "execute_result"
    }
   ],
   "source": [
    "influence_model.get_l_relatif(0, 0)"
   ]
  },
  {
   "cell_type": "code",
   "execution_count": 9,
   "metadata": {},
   "outputs": [
    {
     "data": {
      "text/plain": [
       "[<tf.Tensor: shape=(784, 10), dtype=float64, numpy=\n",
       " array([[-2.32880975e-13, -8.17070447e-14, -8.33336250e-14, ...,\n",
       "          9.57189688e-13,  1.94641488e-12, -3.99829851e-12],\n",
       "        [-2.80067446e-05, -1.61703146e-06, -6.70341766e-06, ...,\n",
       "          5.63919557e-07, -1.42358302e-04, -5.09446173e-07],\n",
       "        [ 2.21718047e-04,  1.18355512e-04, -1.48679482e-04, ...,\n",
       "         -1.81714535e-05,  4.68826348e-05,  1.34745756e-05],\n",
       "        ...,\n",
       "        [-1.08012007e-02, -3.96097551e-03,  6.37298180e-03, ...,\n",
       "          4.34476136e-03, -1.11750356e-02, -4.62698912e-03],\n",
       "        [-2.60271868e-03, -7.66000138e-04, -6.67251045e-03, ...,\n",
       "          9.21395606e-03,  2.21845453e-03, -1.03038333e-03],\n",
       "        [ 1.79053260e-04,  4.47953423e-07, -2.64163802e-04, ...,\n",
       "         -5.39193887e-04,  3.11970789e-05,  5.68377522e-05]])>,\n",
       " <tf.Tensor: shape=(10,), dtype=float64, numpy=\n",
       " array([ 0.06281225, -0.05549786, -0.05307192,  0.01316959, -0.32408354,\n",
       "         0.75858732,  0.14867431, -0.04248875, -0.17874876, -0.33062548])>]"
      ]
     },
     "execution_count": 9,
     "metadata": {},
     "output_type": "execute_result"
    }
   ],
   "source": [
    "influence_model.get_new_parameters(0)"
   ]
  },
  {
   "cell_type": "code",
   "execution_count": 10,
   "metadata": {},
   "outputs": [],
   "source": [
    "lissa_influence_model = InfluenceModel(\n",
    "    model,\n",
    "    train_images,\n",
    "    train_labels,\n",
    "    test_images,\n",
    "    test_labels,\n",
    "    model.loss,\n",
    "    method='lissa',\n",
    "    scaling=0.01,\n",
    "    verbose=True,\n",
    "    dtype=np.float64\n",
    ")"
   ]
  },
  {
   "cell_type": "code",
   "execution_count": 11,
   "metadata": {},
   "outputs": [
    {
     "name": "stdout",
     "output_type": "stream",
     "text": [
      "Calculating inverse HVP using LiSSA method:\n",
      "Sample 1 with depth 1000 - Current error: 0.008128780940861858 , Relative error: 0.656376725105295\n",
      "Overall error: 0.008128780940861858 , Overall relative error: 0.656376725105295\n"
     ]
    },
    {
     "data": {
      "text/plain": [
       "-0.15813999588454486"
      ]
     },
     "execution_count": 11,
     "metadata": {},
     "output_type": "execute_result"
    }
   ],
   "source": [
    "lissa_influence_model.get_influence_on_loss(0, 0)"
   ]
  },
  {
   "cell_type": "code",
   "execution_count": null,
   "metadata": {},
   "outputs": [],
   "source": []
  }
 ],
 "metadata": {
  "kernelspec": {
   "display_name": "Python 3",
   "language": "python",
   "name": "python3"
  },
  "language_info": {
   "codemirror_mode": {
    "name": "ipython",
    "version": 3
   },
   "file_extension": ".py",
   "mimetype": "text/x-python",
   "name": "python",
   "nbconvert_exporter": "python",
   "pygments_lexer": "ipython3",
   "version": "3.7.9"
  }
 },
 "nbformat": 4,
 "nbformat_minor": 4
}
