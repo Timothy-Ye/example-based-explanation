{
 "cells": [
  {
   "cell_type": "code",
   "execution_count": 1,
   "metadata": {},
   "outputs": [],
   "source": [
    "import sys\n",
    "sys.path.append('../')"
   ]
  },
  {
   "cell_type": "code",
   "execution_count": 2,
   "metadata": {},
   "outputs": [],
   "source": [
    "import numpy as np\n",
    "import tensorflow as tf\n",
    "import matplotlib.pyplot as plt\n",
    "import seaborn as sns\n",
    "sns.set()"
   ]
  },
  {
   "cell_type": "code",
   "execution_count": 3,
   "metadata": {},
   "outputs": [],
   "source": [
    "from influence.influence_model import InfluenceModel"
   ]
  },
  {
   "cell_type": "code",
   "execution_count": 4,
   "metadata": {},
   "outputs": [],
   "source": [
    "mnist_dataset = tf.keras.datasets.mnist\n",
    "(train_images, train_labels), (test_images, test_labels) = mnist_dataset.load_data()\n",
    "\n",
    "train_images = train_images / 255.0\n",
    "test_images = test_images / 255.0\n",
    "\n",
    "categorical_train_labels = tf.keras.utils.to_categorical(train_labels)\n",
    "categorical_test_labels = tf.keras.utils.to_categorical(test_labels)"
   ]
  },
  {
   "cell_type": "code",
   "execution_count": 5,
   "metadata": {},
   "outputs": [],
   "source": [
    "num_training_points = 54000"
   ]
  },
  {
   "cell_type": "code",
   "execution_count": 6,
   "metadata": {},
   "outputs": [],
   "source": [
    "tf.keras.backend.set_floatx(\"float64\")\n",
    "\n",
    "model = tf.keras.Sequential(\n",
    "    [\n",
    "        tf.keras.layers.Flatten(input_shape=(28, 28)),\n",
    "        tf.keras.layers.Dense(10, kernel_regularizer=\"l2\", bias_regularizer=\"l2\"),\n",
    "    ]\n",
    ")\n",
    "\n",
    "model.compile(\n",
    "    optimizer=\"adam\",\n",
    "    loss=tf.keras.losses.CategoricalCrossentropy(from_logits=True),\n",
    "    metrics=[\"accuracy\"],\n",
    ")"
   ]
  },
  {
   "cell_type": "code",
   "execution_count": 7,
   "metadata": {
    "scrolled": true
   },
   "outputs": [
    {
     "name": "stdout",
     "output_type": "stream",
     "text": [
      "Epoch 1/100\n",
      "1688/1688 [==============================] - 1s 811us/step - loss: 0.6941 - accuracy: 0.8858 - val_loss: 0.2455 - val_accuracy: 1.0000\n",
      "Epoch 2/100\n",
      "1688/1688 [==============================] - 1s 733us/step - loss: 0.6943 - accuracy: 0.8851 - val_loss: 0.2529 - val_accuracy: 1.0000\n",
      "Epoch 3/100\n",
      "1688/1688 [==============================] - 1s 705us/step - loss: 0.6941 - accuracy: 0.8845 - val_loss: 0.2548 - val_accuracy: 1.0000\n",
      "Epoch 4/100\n",
      "1688/1688 [==============================] - 1s 741us/step - loss: 0.6942 - accuracy: 0.8852 - val_loss: 0.2401 - val_accuracy: 1.0000\n",
      "Epoch 5/100\n",
      "1688/1688 [==============================] - 1s 704us/step - loss: 0.6942 - accuracy: 0.8853 - val_loss: 0.2530 - val_accuracy: 1.0000\n",
      "Epoch 6/100\n",
      "1688/1688 [==============================] - 1s 706us/step - loss: 0.6941 - accuracy: 0.8852 - val_loss: 0.2547 - val_accuracy: 1.0000\n",
      "Epoch 7/100\n",
      "1688/1688 [==============================] - 1s 739us/step - loss: 0.6942 - accuracy: 0.8851 - val_loss: 0.2527 - val_accuracy: 1.0000\n",
      "Epoch 8/100\n",
      "1688/1688 [==============================] - 1s 737us/step - loss: 0.6946 - accuracy: 0.8850 - val_loss: 0.2522 - val_accuracy: 1.0000\n",
      "Epoch 9/100\n",
      "1688/1688 [==============================] - 1s 713us/step - loss: 0.6941 - accuracy: 0.8853 - val_loss: 0.2504 - val_accuracy: 1.0000\n",
      "Epoch 10/100\n",
      "1688/1688 [==============================] - 1s 717us/step - loss: 0.6944 - accuracy: 0.8860 - val_loss: 0.2437 - val_accuracy: 1.0000\n",
      "Epoch 11/100\n",
      "1688/1688 [==============================] - 1s 707us/step - loss: 0.6946 - accuracy: 0.8845 - val_loss: 0.2326 - val_accuracy: 1.0000\n",
      "Epoch 12/100\n",
      "1688/1688 [==============================] - 1s 742us/step - loss: 0.6944 - accuracy: 0.8846 - val_loss: 0.2405 - val_accuracy: 1.0000\n",
      "Epoch 13/100\n",
      "1688/1688 [==============================] - 1s 721us/step - loss: 0.6944 - accuracy: 0.8850 - val_loss: 0.2478 - val_accuracy: 1.0000\n",
      "Epoch 14/100\n",
      "1688/1688 [==============================] - 1s 725us/step - loss: 0.6942 - accuracy: 0.8850 - val_loss: 0.2477 - val_accuracy: 1.0000\n",
      "Epoch 15/100\n",
      "1688/1688 [==============================] - 1s 751us/step - loss: 0.6946 - accuracy: 0.8849 - val_loss: 0.2465 - val_accuracy: 1.0000\n",
      "Epoch 16/100\n",
      "1688/1688 [==============================] - 1s 728us/step - loss: 0.6945 - accuracy: 0.8841 - val_loss: 0.2432 - val_accuracy: 1.0000\n",
      "Epoch 17/100\n",
      "1688/1688 [==============================] - 1s 740us/step - loss: 0.6942 - accuracy: 0.8852 - val_loss: 0.2423 - val_accuracy: 1.0000\n",
      "Epoch 18/100\n",
      "1688/1688 [==============================] - 1s 722us/step - loss: 0.6942 - accuracy: 0.8851 - val_loss: 0.2450 - val_accuracy: 1.0000\n",
      "Epoch 19/100\n",
      "1688/1688 [==============================] - 1s 711us/step - loss: 0.6943 - accuracy: 0.8855 - val_loss: 0.2398 - val_accuracy: 1.0000\n",
      "Epoch 20/100\n",
      "1688/1688 [==============================] - 1s 757us/step - loss: 0.6946 - accuracy: 0.8849 - val_loss: 0.2443 - val_accuracy: 1.0000\n",
      "Epoch 21/100\n",
      "1688/1688 [==============================] - 1s 760us/step - loss: 0.6946 - accuracy: 0.8850 - val_loss: 0.2659 - val_accuracy: 1.0000\n",
      "Epoch 22/100\n",
      "1688/1688 [==============================] - 1s 727us/step - loss: 0.6941 - accuracy: 0.8853 - val_loss: 0.2404 - val_accuracy: 1.0000\n",
      "Epoch 23/100\n",
      "1688/1688 [==============================] - 1s 715us/step - loss: 0.6945 - accuracy: 0.8846 - val_loss: 0.2357 - val_accuracy: 1.0000\n",
      "Epoch 24/100\n",
      "1688/1688 [==============================] - 1s 746us/step - loss: 0.6946 - accuracy: 0.8851 - val_loss: 0.2499 - val_accuracy: 1.0000\n",
      "Epoch 25/100\n",
      "1688/1688 [==============================] - 1s 761us/step - loss: 0.6944 - accuracy: 0.8852 - val_loss: 0.2477 - val_accuracy: 1.0000\n",
      "Epoch 26/100\n",
      "1688/1688 [==============================] - 1s 717us/step - loss: 0.6944 - accuracy: 0.8857 - val_loss: 0.2423 - val_accuracy: 1.0000\n",
      "Epoch 27/100\n",
      "1688/1688 [==============================] - 1s 717us/step - loss: 0.6944 - accuracy: 0.8846 - val_loss: 0.2727 - val_accuracy: 1.0000\n",
      "Epoch 28/100\n",
      "1688/1688 [==============================] - 1s 724us/step - loss: 0.6942 - accuracy: 0.8841 - val_loss: 0.2428 - val_accuracy: 1.0000\n",
      "Epoch 29/100\n",
      "1688/1688 [==============================] - 1s 718us/step - loss: 0.6941 - accuracy: 0.8847 - val_loss: 0.2487 - val_accuracy: 1.0000\n",
      "Epoch 30/100\n",
      "1688/1688 [==============================] - 1s 769us/step - loss: 0.6941 - accuracy: 0.8859 - val_loss: 0.2544 - val_accuracy: 1.0000\n",
      "Epoch 31/100\n",
      "1688/1688 [==============================] - 1s 727us/step - loss: 0.6949 - accuracy: 0.8844 - val_loss: 0.2557 - val_accuracy: 1.0000\n",
      "Epoch 32/100\n",
      "1688/1688 [==============================] - 1s 752us/step - loss: 0.6944 - accuracy: 0.8852 - val_loss: 0.2467 - val_accuracy: 1.0000\n",
      "Epoch 33/100\n",
      "1688/1688 [==============================] - 1s 731us/step - loss: 0.6943 - accuracy: 0.8847 - val_loss: 0.2556 - val_accuracy: 1.0000\n",
      "Epoch 34/100\n",
      "1688/1688 [==============================] - 1s 728us/step - loss: 0.6941 - accuracy: 0.8844 - val_loss: 0.2450 - val_accuracy: 1.0000\n",
      "Epoch 35/100\n",
      "1688/1688 [==============================] - 1s 731us/step - loss: 0.6941 - accuracy: 0.8851 - val_loss: 0.2372 - val_accuracy: 1.0000\n",
      "Epoch 36/100\n",
      "1688/1688 [==============================] - 1s 714us/step - loss: 0.6945 - accuracy: 0.8859 - val_loss: 0.2430 - val_accuracy: 1.0000\n",
      "Epoch 37/100\n",
      "1688/1688 [==============================] - 1s 711us/step - loss: 0.6950 - accuracy: 0.8850 - val_loss: 0.2364 - val_accuracy: 1.0000\n",
      "Epoch 38/100\n",
      "1688/1688 [==============================] - 1s 776us/step - loss: 0.6943 - accuracy: 0.8859 - val_loss: 0.2471 - val_accuracy: 1.0000\n",
      "Epoch 39/100\n",
      "1688/1688 [==============================] - 1s 717us/step - loss: 0.6943 - accuracy: 0.8851 - val_loss: 0.2451 - val_accuracy: 1.0000\n",
      "Epoch 40/100\n",
      "1688/1688 [==============================] - 1s 711us/step - loss: 0.6946 - accuracy: 0.8852 - val_loss: 0.2459 - val_accuracy: 1.0000\n",
      "Epoch 41/100\n",
      "1688/1688 [==============================] - 1s 712us/step - loss: 0.6940 - accuracy: 0.8857 - val_loss: 0.2459 - val_accuracy: 1.0000\n",
      "Epoch 42/100\n",
      "1688/1688 [==============================] - 1s 713us/step - loss: 0.6945 - accuracy: 0.8852 - val_loss: 0.2398 - val_accuracy: 1.0000\n",
      "Epoch 43/100\n",
      "1688/1688 [==============================] - 1s 709us/step - loss: 0.6947 - accuracy: 0.8852 - val_loss: 0.2352 - val_accuracy: 1.0000\n",
      "Epoch 44/100\n",
      "1688/1688 [==============================] - 1s 714us/step - loss: 0.6939 - accuracy: 0.8853 - val_loss: 0.2427 - val_accuracy: 1.0000\n",
      "Epoch 45/100\n",
      "1688/1688 [==============================] - 1s 714us/step - loss: 0.6944 - accuracy: 0.8848 - val_loss: 0.2347 - val_accuracy: 1.0000\n",
      "Epoch 46/100\n",
      "1688/1688 [==============================] - 1s 722us/step - loss: 0.6945 - accuracy: 0.8844 - val_loss: 0.2518 - val_accuracy: 1.0000\n",
      "Epoch 47/100\n",
      "1688/1688 [==============================] - 1s 713us/step - loss: 0.6941 - accuracy: 0.8859 - val_loss: 0.2334 - val_accuracy: 1.0000\n",
      "Epoch 48/100\n",
      "1688/1688 [==============================] - 1s 714us/step - loss: 0.6943 - accuracy: 0.8859 - val_loss: 0.2461 - val_accuracy: 1.0000\n",
      "Epoch 49/100\n",
      "1688/1688 [==============================] - 1s 720us/step - loss: 0.6942 - accuracy: 0.8848 - val_loss: 0.2482 - val_accuracy: 1.0000\n",
      "Epoch 50/100\n",
      "1688/1688 [==============================] - 1s 714us/step - loss: 0.6942 - accuracy: 0.8858 - val_loss: 0.2406 - val_accuracy: 1.0000\n",
      "Epoch 51/100\n",
      "1688/1688 [==============================] - 1s 752us/step - loss: 0.6947 - accuracy: 0.8858 - val_loss: 0.2347 - val_accuracy: 1.0000\n",
      "Epoch 52/100\n",
      "1688/1688 [==============================] - 1s 734us/step - loss: 0.6940 - accuracy: 0.8844 - val_loss: 0.2403 - val_accuracy: 1.0000\n",
      "Epoch 53/100\n",
      "1688/1688 [==============================] - 1s 724us/step - loss: 0.6944 - accuracy: 0.8854 - val_loss: 0.2576 - val_accuracy: 1.0000\n",
      "Epoch 54/100\n",
      "1688/1688 [==============================] - 1s 721us/step - loss: 0.6938 - accuracy: 0.8862 - val_loss: 0.2518 - val_accuracy: 1.0000\n",
      "Epoch 55/100\n",
      "1688/1688 [==============================] - 1s 768us/step - loss: 0.6946 - accuracy: 0.8843 - val_loss: 0.2362 - val_accuracy: 1.0000\n",
      "Epoch 56/100\n"
     ]
    },
    {
     "name": "stdout",
     "output_type": "stream",
     "text": [
      "1688/1688 [==============================] - 1s 781us/step - loss: 0.6939 - accuracy: 0.8852 - val_loss: 0.2470 - val_accuracy: 1.0000\n",
      "Epoch 57/100\n",
      "1688/1688 [==============================] - 1s 705us/step - loss: 0.6946 - accuracy: 0.8855 - val_loss: 0.2597 - val_accuracy: 1.0000\n",
      "Epoch 58/100\n",
      "1688/1688 [==============================] - 1s 761us/step - loss: 0.6944 - accuracy: 0.8839 - val_loss: 0.2475 - val_accuracy: 1.0000\n",
      "Epoch 59/100\n",
      "1688/1688 [==============================] - 1s 723us/step - loss: 0.6947 - accuracy: 0.8842 - val_loss: 0.2429 - val_accuracy: 1.0000\n",
      "Epoch 60/100\n",
      "1688/1688 [==============================] - 1s 766us/step - loss: 0.6943 - accuracy: 0.8856 - val_loss: 0.2451 - val_accuracy: 1.0000\n",
      "Epoch 61/100\n",
      "1688/1688 [==============================] - 1s 791us/step - loss: 0.6945 - accuracy: 0.8846 - val_loss: 0.2611 - val_accuracy: 1.0000\n",
      "Epoch 62/100\n",
      "1688/1688 [==============================] - 1s 761us/step - loss: 0.6942 - accuracy: 0.8850 - val_loss: 0.2578 - val_accuracy: 1.0000\n",
      "Epoch 63/100\n",
      "1688/1688 [==============================] - 1s 718us/step - loss: 0.6945 - accuracy: 0.8850 - val_loss: 0.2546 - val_accuracy: 1.0000\n",
      "Epoch 64/100\n",
      "1688/1688 [==============================] - 1s 779us/step - loss: 0.6945 - accuracy: 0.8854 - val_loss: 0.2372 - val_accuracy: 1.0000\n",
      "Epoch 65/100\n",
      "1688/1688 [==============================] - 1s 752us/step - loss: 0.6941 - accuracy: 0.8848 - val_loss: 0.2436 - val_accuracy: 1.0000\n",
      "Epoch 66/100\n",
      "1688/1688 [==============================] - 1s 715us/step - loss: 0.6941 - accuracy: 0.8856 - val_loss: 0.2442 - val_accuracy: 1.0000\n",
      "Epoch 67/100\n",
      "1688/1688 [==============================] - 1s 715us/step - loss: 0.6945 - accuracy: 0.8850 - val_loss: 0.2431 - val_accuracy: 1.0000\n",
      "Epoch 68/100\n",
      "1688/1688 [==============================] - 1s 735us/step - loss: 0.6948 - accuracy: 0.8850 - val_loss: 0.2469 - val_accuracy: 1.0000\n",
      "Epoch 69/100\n",
      "1688/1688 [==============================] - 1s 736us/step - loss: 0.6943 - accuracy: 0.8851 - val_loss: 0.2507 - val_accuracy: 1.0000\n",
      "Epoch 70/100\n",
      "1688/1688 [==============================] - 1s 729us/step - loss: 0.6943 - accuracy: 0.8854 - val_loss: 0.2539 - val_accuracy: 1.0000\n",
      "Epoch 71/100\n",
      "1688/1688 [==============================] - 1s 706us/step - loss: 0.6943 - accuracy: 0.8853 - val_loss: 0.2398 - val_accuracy: 1.0000\n",
      "Epoch 72/100\n",
      "1688/1688 [==============================] - 1s 708us/step - loss: 0.6944 - accuracy: 0.8848 - val_loss: 0.2451 - val_accuracy: 1.0000\n",
      "Epoch 73/100\n",
      "1688/1688 [==============================] - 1s 705us/step - loss: 0.6943 - accuracy: 0.8855 - val_loss: 0.2421 - val_accuracy: 1.0000\n",
      "Epoch 74/100\n",
      "1688/1688 [==============================] - 1s 706us/step - loss: 0.6940 - accuracy: 0.8860 - val_loss: 0.2430 - val_accuracy: 1.0000\n",
      "Epoch 75/100\n",
      "1688/1688 [==============================] - 1s 702us/step - loss: 0.6947 - accuracy: 0.8848 - val_loss: 0.2461 - val_accuracy: 1.0000\n",
      "Epoch 76/100\n",
      "1688/1688 [==============================] - 1s 703us/step - loss: 0.6945 - accuracy: 0.8849 - val_loss: 0.2553 - val_accuracy: 1.0000\n",
      "Epoch 77/100\n",
      "1688/1688 [==============================] - 1s 742us/step - loss: 0.6945 - accuracy: 0.8843 - val_loss: 0.2544 - val_accuracy: 1.0000\n",
      "Epoch 78/100\n",
      "1688/1688 [==============================] - 1s 737us/step - loss: 0.6941 - accuracy: 0.8861 - val_loss: 0.2362 - val_accuracy: 1.0000\n",
      "Epoch 79/100\n",
      "1688/1688 [==============================] - 1s 718us/step - loss: 0.6942 - accuracy: 0.8866 - val_loss: 0.2461 - val_accuracy: 1.0000\n",
      "Epoch 80/100\n",
      "1688/1688 [==============================] - 1s 719us/step - loss: 0.6944 - accuracy: 0.8846 - val_loss: 0.2433 - val_accuracy: 1.0000\n",
      "Epoch 81/100\n",
      "1688/1688 [==============================] - 1s 704us/step - loss: 0.6942 - accuracy: 0.8850 - val_loss: 0.2424 - val_accuracy: 1.0000\n",
      "Epoch 82/100\n",
      "1688/1688 [==============================] - 1s 707us/step - loss: 0.6941 - accuracy: 0.8849 - val_loss: 0.2525 - val_accuracy: 1.0000\n",
      "Epoch 83/100\n",
      "1688/1688 [==============================] - 1s 704us/step - loss: 0.6941 - accuracy: 0.8854 - val_loss: 0.2354 - val_accuracy: 1.0000\n",
      "Epoch 84/100\n",
      "1688/1688 [==============================] - 1s 705us/step - loss: 0.6940 - accuracy: 0.8848 - val_loss: 0.2523 - val_accuracy: 1.0000\n",
      "Epoch 85/100\n",
      "1688/1688 [==============================] - 1s 710us/step - loss: 0.6945 - accuracy: 0.8849 - val_loss: 0.2349 - val_accuracy: 1.0000\n",
      "Epoch 86/100\n",
      "1688/1688 [==============================] - 1s 705us/step - loss: 0.6943 - accuracy: 0.8853 - val_loss: 0.2386 - val_accuracy: 1.0000\n",
      "Epoch 87/100\n",
      "1688/1688 [==============================] - 1s 704us/step - loss: 0.6942 - accuracy: 0.8844 - val_loss: 0.2444 - val_accuracy: 1.0000\n",
      "Epoch 88/100\n",
      "1688/1688 [==============================] - 1s 727us/step - loss: 0.6940 - accuracy: 0.8861 - val_loss: 0.2500 - val_accuracy: 1.0000\n",
      "Epoch 89/100\n",
      "1688/1688 [==============================] - 1s 719us/step - loss: 0.6941 - accuracy: 0.8853 - val_loss: 0.2541 - val_accuracy: 1.0000\n",
      "Epoch 90/100\n",
      "1688/1688 [==============================] - 1s 764us/step - loss: 0.6943 - accuracy: 0.8849 - val_loss: 0.2518 - val_accuracy: 1.0000\n",
      "Epoch 91/100\n",
      "1688/1688 [==============================] - 1s 765us/step - loss: 0.6944 - accuracy: 0.8856 - val_loss: 0.2507 - val_accuracy: 1.0000\n",
      "Epoch 92/100\n",
      "1688/1688 [==============================] - 1s 768us/step - loss: 0.6942 - accuracy: 0.8850 - val_loss: 0.2497 - val_accuracy: 1.0000\n",
      "Epoch 93/100\n",
      "1688/1688 [==============================] - 1s 725us/step - loss: 0.6942 - accuracy: 0.8844 - val_loss: 0.2513 - val_accuracy: 1.0000\n",
      "Epoch 94/100\n",
      "1688/1688 [==============================] - 1s 712us/step - loss: 0.6944 - accuracy: 0.8849 - val_loss: 0.2373 - val_accuracy: 1.0000\n",
      "Epoch 95/100\n",
      "1688/1688 [==============================] - 1s 719us/step - loss: 0.6944 - accuracy: 0.8849 - val_loss: 0.2446 - val_accuracy: 1.0000\n",
      "Epoch 96/100\n",
      "1688/1688 [==============================] - 1s 731us/step - loss: 0.6940 - accuracy: 0.8848 - val_loss: 0.2450 - val_accuracy: 1.0000\n",
      "Epoch 97/100\n",
      "1688/1688 [==============================] - 1s 741us/step - loss: 0.6948 - accuracy: 0.8848 - val_loss: 0.2495 - val_accuracy: 1.0000\n",
      "Epoch 98/100\n",
      "1688/1688 [==============================] - 1s 729us/step - loss: 0.6943 - accuracy: 0.8857 - val_loss: 0.2588 - val_accuracy: 1.0000\n",
      "Epoch 99/100\n",
      "1688/1688 [==============================] - 1s 717us/step - loss: 0.6938 - accuracy: 0.8854 - val_loss: 0.2534 - val_accuracy: 1.0000\n",
      "Epoch 100/100\n",
      "1688/1688 [==============================] - 1s 715us/step - loss: 0.6941 - accuracy: 0.8850 - val_loss: 0.2450 - val_accuracy: 1.0000\n"
     ]
    }
   ],
   "source": [
    "model.load_weights('../output/mnist_checkpoint')\n",
    "history = model.fit(\n",
    "    train_images[:num_training_points],\n",
    "    categorical_train_labels[:num_training_points],\n",
    "    epochs=100,\n",
    "    validation_data=(test_images[0:1], categorical_test_labels[0:1])\n",
    ")"
   ]
  },
  {
   "cell_type": "code",
   "execution_count": 8,
   "metadata": {},
   "outputs": [
    {
     "data": {
      "text/plain": [
       "[<matplotlib.lines.Line2D at 0x189773ff188>]"
      ]
     },
     "execution_count": 8,
     "metadata": {},
     "output_type": "execute_result"
    },
    {
     "data": {
      "image/png": "[encoded data removed]",
      "text/plain": [
       "<Figure size 432x288 with 1 Axes>"
      ]
     },
     "metadata": {},
     "output_type": "display_data"
    }
   ],
   "source": [
    "plt.plot(history.history['val_loss'])"
   ]
  },
  {
   "cell_type": "code",
   "execution_count": 9,
   "metadata": {},
   "outputs": [
    {
     "name": "stdout",
     "output_type": "stream",
     "text": [
      "1/1 [==============================] - 0s 1000us/step - loss: 0.2450 - accuracy: 1.0000\n"
     ]
    },
    {
     "data": {
      "text/plain": [
       "[0.24503927900691852, 1.0]"
      ]
     },
     "execution_count": 9,
     "metadata": {},
     "output_type": "execute_result"
    }
   ],
   "source": [
    "model.evaluate(test_images[0:1], categorical_test_labels[0:1])"
   ]
  },
  {
   "cell_type": "code",
   "execution_count": 10,
   "metadata": {},
   "outputs": [
    {
     "data": {
      "text/plain": [
       "<tf.Tensor: shape=(), dtype=float32, numpy=-6.010802>"
      ]
     },
     "execution_count": 10,
     "metadata": {},
     "output_type": "execute_result"
    }
   ],
   "source": [
    "model.loss(model.predict(test_images[0:1]), categorical_test_labels[0:1])"
   ]
  },
  {
   "cell_type": "code",
   "execution_count": 11,
   "metadata": {},
   "outputs": [
    {
     "data": {
      "text/plain": [
       "<tf.Tensor: shape=(), dtype=float32, numpy=-6.010802>"
      ]
     },
     "execution_count": 11,
     "metadata": {},
     "output_type": "execute_result"
    }
   ],
   "source": [
    "loss_fn = tf.keras.losses.CategoricalCrossentropy(from_logits=True)\n",
    "loss_fn(model.predict(test_images[0:1]), categorical_test_labels[0:1])"
   ]
  },
  {
   "cell_type": "code",
   "execution_count": null,
   "metadata": {},
   "outputs": [],
   "source": []
  }
 ],
 "metadata": {
  "kernelspec": {
   "display_name": "Python 3",
   "language": "python",
   "name": "python3"
  },
  "language_info": {
   "codemirror_mode": {
    "name": "ipython",
    "version": 3
   },
   "file_extension": ".py",
   "mimetype": "text/x-python",
   "name": "python",
   "nbconvert_exporter": "python",
   "pygments_lexer": "ipython3",
   "version": "3.7.9"
  }
 },
 "nbformat": 4,
 "nbformat_minor": 4
}
