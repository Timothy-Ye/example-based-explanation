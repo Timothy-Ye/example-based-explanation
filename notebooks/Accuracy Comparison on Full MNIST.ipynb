{
 "cells": [
  {
   "cell_type": "code",
   "execution_count": 1,
   "metadata": {},
   "outputs": [],
   "source": [
    "import sys\n",
    "sys.path.append('../')"
   ]
  },
  {
   "cell_type": "code",
   "execution_count": 2,
   "metadata": {},
   "outputs": [],
   "source": [
    "import numpy as np\n",
    "import tensorflow as tf\n",
    "tf.keras.backend.set_floatx(\"float64\")\n",
    "import matplotlib.pyplot as plt\n",
    "import seaborn as sns\n",
    "sns.set()"
   ]
  },
  {
   "cell_type": "code",
   "execution_count": 3,
   "metadata": {},
   "outputs": [],
   "source": [
    "from influence.influence_model import InfluenceModel"
   ]
  },
  {
   "cell_type": "code",
   "execution_count": 4,
   "metadata": {},
   "outputs": [],
   "source": [
    "mnist_dataset = tf.keras.datasets.mnist\n",
    "(train_images, train_labels), (test_images, test_labels) = mnist_dataset.load_data()\n",
    "\n",
    "train_images = train_images / 255.0\n",
    "test_images = test_images / 255.0\n",
    "\n",
    "categorical_train_labels = tf.keras.utils.to_categorical(train_labels)\n",
    "categorical_test_labels = tf.keras.utils.to_categorical(test_labels)"
   ]
  },
  {
   "cell_type": "code",
   "execution_count": 50,
   "metadata": {},
   "outputs": [],
   "source": [
    "num_training_points = 54000"
   ]
  },
  {
   "cell_type": "code",
   "execution_count": 57,
   "metadata": {},
   "outputs": [
    {
     "name": "stdout",
     "output_type": "stream",
     "text": [
      "Epoch 1/10\n",
      "1688/1688 [==============================] - 1s 733us/step - loss: 0.4944 - accuracy: 0.8706 - categorical_crossentropy: 0.4944\n",
      "Epoch 2/10\n",
      "1688/1688 [==============================] - 1s 756us/step - loss: 0.3190 - accuracy: 0.9107 - categorical_crossentropy: 0.3190\n",
      "Epoch 3/10\n",
      "1688/1688 [==============================] - 1s 758us/step - loss: 0.2964 - accuracy: 0.9170 - categorical_crossentropy: 0.2964\n",
      "Epoch 4/10\n",
      "1688/1688 [==============================] - 1s 764us/step - loss: 0.2851 - accuracy: 0.9206 - categorical_crossentropy: 0.2851\n",
      "Epoch 5/10\n",
      "1688/1688 [==============================] - 1s 747us/step - loss: 0.2778 - accuracy: 0.9228 - categorical_crossentropy: 0.2778\n",
      "Epoch 6/10\n",
      "1688/1688 [==============================] - 1s 771us/step - loss: 0.2726 - accuracy: 0.9246 - categorical_crossentropy: 0.2726\n",
      "Epoch 7/10\n",
      "1688/1688 [==============================] - 1s 743us/step - loss: 0.2686 - accuracy: 0.9259 - categorical_crossentropy: 0.2686\n",
      "Epoch 8/10\n",
      "1688/1688 [==============================] - 1s 729us/step - loss: 0.2653 - accuracy: 0.9267 - categorical_crossentropy: 0.2653\n",
      "Epoch 9/10\n",
      "1688/1688 [==============================] - 1s 730us/step - loss: 0.2626 - accuracy: 0.9276 - categorical_crossentropy: 0.2626\n",
      "Epoch 10/10\n",
      "1688/1688 [==============================] - 1s 782us/step - loss: 0.2603 - accuracy: 0.9283 - categorical_crossentropy: 0.2603\n"
     ]
    },
    {
     "data": {
      "text/plain": [
       "<tensorflow.python.keras.callbacks.History at 0x1c433171448>"
      ]
     },
     "execution_count": 57,
     "metadata": {},
     "output_type": "execute_result"
    }
   ],
   "source": [
    "model = tf.keras.Sequential(\n",
    "    [\n",
    "        tf.keras.layers.Flatten(input_shape=(28, 28)),\n",
    "#         tf.keras.layers.Dense(10, kernel_regularizer=\"l2\", bias_regularizer=\"l2\"),\n",
    "        tf.keras.layers.Dense(10),\n",
    "    ]\n",
    ")\n",
    "\n",
    "model.compile(\n",
    "    optimizer=\"adam\",\n",
    "    loss=tf.keras.losses.CategoricalCrossentropy(from_logits=True),\n",
    "    metrics=[\"accuracy\", tf.keras.metrics.CategoricalCrossentropy(from_logits=True)],\n",
    ")\n",
    "\n",
    "model.fit(\n",
    "    train_images[:num_training_points],\n",
    "    categorical_train_labels[:num_training_points],\n",
    "    epochs=10,\n",
    "    shuffle=False\n",
    ")"
   ]
  },
  {
   "cell_type": "code",
   "execution_count": 58,
   "metadata": {},
   "outputs": [],
   "source": [
    "influence_model = InfluenceModel(\n",
    "    model,\n",
    "    train_images[:num_training_points],\n",
    "    categorical_train_labels[:num_training_points],\n",
    "    test_images,\n",
    "    categorical_test_labels,\n",
    "    model.loss,\n",
    "    damping=0.2,\n",
    "    dtype=np.float64,\n",
    ")\n",
    "\n",
    "influence_on_loss = influence_model.get_influence_on_loss(0, 0)\n",
    "pred_loss_change = -(1/num_training_points) * influence_on_loss"
   ]
  },
  {
   "cell_type": "code",
   "execution_count": 59,
   "metadata": {
    "scrolled": true
   },
   "outputs": [
    {
     "name": "stdout",
     "output_type": "stream",
     "text": [
      "Epoch 1/10\n",
      "1688/1688 [==============================] - 1s 740us/step - loss: 0.4965 - accuracy: 0.8701\n",
      "Epoch 2/10\n",
      "1688/1688 [==============================] - 1s 726us/step - loss: 0.3190 - accuracy: 0.9111\n",
      "Epoch 3/10\n",
      "1688/1688 [==============================] - 1s 701us/step - loss: 0.2963 - accuracy: 0.9175\n",
      "Epoch 4/10\n",
      "1688/1688 [==============================] - ETA: 0s - loss: 0.2837 - accuracy: 0.92 - 1s 713us/step - loss: 0.2850 - accuracy: 0.9210\n",
      "Epoch 5/10\n",
      "1688/1688 [==============================] - 1s 708us/step - loss: 0.2777 - accuracy: 0.9232\n",
      "Epoch 6/10\n",
      "1688/1688 [==============================] - 1s 737us/step - loss: 0.2725 - accuracy: 0.9245\n",
      "Epoch 7/10\n",
      "1688/1688 [==============================] - 1s 700us/step - loss: 0.2685 - accuracy: 0.9259\n",
      "Epoch 8/10\n",
      "1688/1688 [==============================] - 1s 701us/step - loss: 0.2653 - accuracy: 0.9269\n",
      "Epoch 9/10\n",
      "1688/1688 [==============================] - 1s 701us/step - loss: 0.2626 - accuracy: 0.9278\n",
      "Epoch 10/10\n",
      "1688/1688 [==============================] - 1s 720us/step - loss: 0.2603 - accuracy: 0.9284\n"
     ]
    },
    {
     "data": {
      "text/plain": [
       "<tensorflow.python.keras.callbacks.History at 0x1c432b44688>"
      ]
     },
     "execution_count": 59,
     "metadata": {},
     "output_type": "execute_result"
    }
   ],
   "source": [
    "new_model = tf.keras.Sequential(\n",
    "    [\n",
    "        tf.keras.layers.Flatten(input_shape=(28, 28)),\n",
    "#         tf.keras.layers.Dense(10, kernel_regularizer=\"l2\", bias_regularizer=\"l2\"),\n",
    "        tf.keras.layers.Dense(10),\n",
    "    ]\n",
    ")\n",
    "\n",
    "new_model.compile(\n",
    "    optimizer=\"adam\",\n",
    "    loss=tf.keras.losses.CategoricalCrossentropy(from_logits=True),\n",
    "    metrics=[\"accuracy\"],\n",
    ")\n",
    "\n",
    "training_idxs = np.delete(range(num_training_points), 0)\n",
    "\n",
    "new_model.fit(\n",
    "    train_images[training_idxs],\n",
    "    categorical_train_labels[training_idxs],\n",
    "    epochs=10,\n",
    "    shuffle=False\n",
    ")"
   ]
  },
  {
   "cell_type": "code",
   "execution_count": 60,
   "metadata": {},
   "outputs": [],
   "source": [
    "original_loss = model.loss(categorical_test_labels[0:1], model(test_images[0:1]))\n",
    "new_loss = new_model.loss(categorical_test_labels[0:1], new_model(test_images[0:1]))\n",
    "actual_loss_change = new_loss - original_loss"
   ]
  },
  {
   "cell_type": "code",
   "execution_count": 61,
   "metadata": {},
   "outputs": [
    {
     "name": "stdout",
     "output_type": "stream",
     "text": [
      "Predicted Change in Loss: 8.423676880180541e-07, Actual Change in Loss: 9.24915075302124e-05\n"
     ]
    }
   ],
   "source": [
    "print(\"Predicted Change in Loss: {}, Actual Change in Loss: {}\".format(pred_loss_change, actual_loss_change))"
   ]
  },
  {
   "cell_type": "code",
   "execution_count": null,
   "metadata": {},
   "outputs": [],
   "source": []
  }
 ],
 "metadata": {
  "kernelspec": {
   "display_name": "Python 3",
   "language": "python",
   "name": "python3"
  },
  "language_info": {
   "codemirror_mode": {
    "name": "ipython",
    "version": 3
   },
   "file_extension": ".py",
   "mimetype": "text/x-python",
   "name": "python",
   "nbconvert_exporter": "python",
   "pygments_lexer": "ipython3",
   "version": "3.7.9"
  }
 },
 "nbformat": 4,
 "nbformat_minor": 4
}
