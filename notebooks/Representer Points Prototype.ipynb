{
 "cells": [
  {
   "cell_type": "code",
   "execution_count": 1,
   "metadata": {},
   "outputs": [],
   "source": [
    "import sys\n",
    "sys.path.append('../')"
   ]
  },
  {
   "cell_type": "code",
   "execution_count": 2,
   "metadata": {},
   "outputs": [],
   "source": [
    "import numpy as np\n",
    "import tensorflow as tf\n",
    "import matplotlib.pyplot as plt\n",
    "import seaborn as sns\n",
    "sns.set()"
   ]
  },
  {
   "cell_type": "code",
   "execution_count": 3,
   "metadata": {},
   "outputs": [],
   "source": [
    "from representer.representer_model import RepresenterModel"
   ]
  },
  {
   "cell_type": "code",
   "execution_count": 4,
   "metadata": {},
   "outputs": [],
   "source": [
    "mnist_dataset = tf.keras.datasets.mnist\n",
    "(train_images, train_labels), (test_images, test_labels) = mnist_dataset.load_data()\n",
    "\n",
    "train_images = train_images / 255.0\n",
    "test_images = test_images / 255.0\n",
    "\n",
    "categorical_train_labels = tf.keras.utils.to_categorical(train_labels)\n",
    "categorical_test_labels = tf.keras.utils.to_categorical(test_labels)\n",
    "\n",
    "tf.keras.backend.set_floatx(\"float64\")"
   ]
  },
  {
   "cell_type": "code",
   "execution_count": 5,
   "metadata": {},
   "outputs": [],
   "source": [
    "model = tf.keras.Sequential(\n",
    "    [\n",
    "        tf.keras.layers.Flatten(input_shape=(28, 28)),\n",
    "        tf.keras.layers.Dense(10, use_bias=False, kernel_regularizer=\"l2\"),\n",
    "    ]\n",
    ")\n",
    "\n",
    "model.compile(\n",
    "    optimizer=\"adam\",\n",
    "    loss=tf.keras.losses.CategoricalCrossentropy(from_logits=True),\n",
    "    metrics=[\"accuracy\"],\n",
    ")"
   ]
  },
  {
   "cell_type": "code",
   "execution_count": 6,
   "metadata": {},
   "outputs": [
    {
     "name": "stdout",
     "output_type": "stream",
     "text": [
      "Epoch 1/10\n",
      "1688/1688 [==============================] - 1s 845us/step - loss: 0.7978 - accuracy: 0.8560 - val_loss: 0.6323 - val_accuracy: 0.9065\n",
      "Epoch 2/10\n",
      "1688/1688 [==============================] - 1s 744us/step - loss: 0.7009 - accuracy: 0.8816 - val_loss: 0.6321 - val_accuracy: 0.9063\n",
      "Epoch 3/10\n",
      "1688/1688 [==============================] - 1s 742us/step - loss: 0.7008 - accuracy: 0.8817 - val_loss: 0.6322 - val_accuracy: 0.9063\n",
      "Epoch 4/10\n",
      "1688/1688 [==============================] - 1s 744us/step - loss: 0.7009 - accuracy: 0.8818 - val_loss: 0.6322 - val_accuracy: 0.9063\n",
      "Epoch 5/10\n",
      "1688/1688 [==============================] - 1s 777us/step - loss: 0.7009 - accuracy: 0.8818 - val_loss: 0.6322 - val_accuracy: 0.9063\n",
      "Epoch 6/10\n",
      "1688/1688 [==============================] - 1s 753us/step - loss: 0.7009 - accuracy: 0.8818 - val_loss: 0.6322 - val_accuracy: 0.9063\n",
      "Epoch 7/10\n",
      "1688/1688 [==============================] - 1s 753us/step - loss: 0.7009 - accuracy: 0.8818 - val_loss: 0.6322 - val_accuracy: 0.9063\n",
      "Epoch 8/10\n",
      "1688/1688 [==============================] - 1s 743us/step - loss: 0.7009 - accuracy: 0.8818 - val_loss: 0.6322 - val_accuracy: 0.9063\n",
      "Epoch 9/10\n",
      "1688/1688 [==============================] - 1s 743us/step - loss: 0.7009 - accuracy: 0.8818 - val_loss: 0.6322 - val_accuracy: 0.9063\n",
      "Epoch 10/10\n",
      "1688/1688 [==============================] - 1s 746us/step - loss: 0.7009 - accuracy: 0.8818 - val_loss: 0.6322 - val_accuracy: 0.9063\n"
     ]
    },
    {
     "data": {
      "text/plain": [
       "<tensorflow.python.keras.callbacks.History at 0x2cd2a7228c8>"
      ]
     },
     "execution_count": 6,
     "metadata": {},
     "output_type": "execute_result"
    }
   ],
   "source": [
    "model.fit(train_images, categorical_train_labels, epochs=10, validation_split=0.1, shuffle=False)"
   ]
  },
  {
   "cell_type": "code",
   "execution_count": 7,
   "metadata": {},
   "outputs": [],
   "source": [
    "feature_model = model.get_layer(index=0)\n",
    "prediction_network = model.get_layer(index=1)"
   ]
  },
  {
   "cell_type": "code",
   "execution_count": 8,
   "metadata": {},
   "outputs": [],
   "source": [
    "l2 = 0.01\n",
    "num_training_points = 54000\n",
    "\n",
    "train_x = train_images[0:1]\n",
    "train_y = categorical_train_labels[0:1]\n",
    "test_x = test_images[0:1]\n",
    "test_y = categorical_test_labels[0:1]"
   ]
  },
  {
   "cell_type": "code",
   "execution_count": 9,
   "metadata": {},
   "outputs": [
    {
     "data": {
      "text/plain": [
       "<tf.Tensor: shape=(1, 10), dtype=float64, numpy=\n",
       "array([[-8.51893332e-04, -1.00680159e-04, -6.06192453e-04,\n",
       "        -8.41183413e-03, -3.08212985e-05,  1.27211042e-02,\n",
       "        -4.26574232e-04, -9.70710137e-04, -1.01438233e-03,\n",
       "        -3.08016127e-04]])>"
      ]
     },
     "execution_count": 9,
     "metadata": {},
     "output_type": "execute_result"
    }
   ],
   "source": [
    "with tf.GradientTape() as tape:\n",
    "    pred = model(train_x)\n",
    "    loss = model.loss(train_y, pred)\n",
    "alpha = - tape.gradient(loss, pred) / (2*l2*num_training_points) # shape=(1, 10)\n",
    "\n",
    "training_features = feature_model(train_x) # shape=(1, 784)\n",
    "test_features = feature_model(test_x) # shape(1, 784)\n",
    "\n",
    "representer_val = tf.math.reduce_sum(tf.math.multiply(training_features, test_features)) * alpha\n",
    "representer_val"
   ]
  },
  {
   "cell_type": "code",
   "execution_count": 10,
   "metadata": {},
   "outputs": [],
   "source": [
    "representer_model = RepresenterModel(\n",
    "    feature_model,\n",
    "    prediction_network,\n",
    "    train_images,\n",
    "    categorical_train_labels,\n",
    "    test_images,\n",
    "    model.loss,\n",
    "    num_training_points=54000\n",
    ")"
   ]
  },
  {
   "cell_type": "code",
   "execution_count": 11,
   "metadata": {},
   "outputs": [
    {
     "data": {
      "text/plain": [
       "<tf.Tensor: shape=(1, 10), dtype=float64, numpy=\n",
       "array([[-8.51893332e-04, -1.00680159e-04, -6.06192453e-04,\n",
       "        -8.41183413e-03, -3.08212985e-05,  1.27211042e-02,\n",
       "        -4.26574232e-04, -9.70710137e-04, -1.01438233e-03,\n",
       "        -3.08016127e-04]])>"
      ]
     },
     "execution_count": 11,
     "metadata": {},
     "output_type": "execute_result"
    }
   ],
   "source": [
    "representer_model.get_representer_value(0, 0)"
   ]
  },
  {
   "cell_type": "code",
   "execution_count": null,
   "metadata": {},
   "outputs": [],
   "source": []
  }
 ],
 "metadata": {
  "kernelspec": {
   "display_name": "Python 3",
   "language": "python",
   "name": "python3"
  },
  "language_info": {
   "codemirror_mode": {
    "name": "ipython",
    "version": 3
   },
   "file_extension": ".py",
   "mimetype": "text/x-python",
   "name": "python",
   "nbconvert_exporter": "python",
   "pygments_lexer": "ipython3",
   "version": "3.7.9"
  }
 },
 "nbformat": 4,
 "nbformat_minor": 4
}
