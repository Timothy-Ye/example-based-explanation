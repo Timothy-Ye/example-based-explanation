{
 "cells": [
  {
   "cell_type": "code",
   "execution_count": 1,
   "metadata": {},
   "outputs": [],
   "source": [
    "import sys\n",
    "sys.path.append('../')"
   ]
  },
  {
   "cell_type": "code",
   "execution_count": 2,
   "metadata": {},
   "outputs": [],
   "source": [
    "import numpy as np\n",
    "import tensorflow as tf\n",
    "import matplotlib.pyplot as plt\n",
    "import seaborn as sns\n",
    "sns.set()"
   ]
  },
  {
   "cell_type": "code",
   "execution_count": 3,
   "metadata": {},
   "outputs": [],
   "source": [
    "from influence.influence_model import InfluenceModel"
   ]
  },
  {
   "cell_type": "markdown",
   "metadata": {},
   "source": [
    "## Data"
   ]
  },
  {
   "cell_type": "markdown",
   "metadata": {},
   "source": [
    "We use the MNIST dataset, consisting of images of handwritten digits, and their respective labels."
   ]
  },
  {
   "cell_type": "code",
   "execution_count": 4,
   "metadata": {},
   "outputs": [],
   "source": [
    "mnist_dataset = tf.keras.datasets.mnist\n",
    "(train_images, train_labels), (test_images, test_labels) = mnist_dataset.load_data()\n",
    "\n",
    "train_images = train_images / 255.0\n",
    "test_images = test_images / 255.0\n",
    "\n",
    "categorical_train_labels = tf.keras.utils.to_categorical(train_labels)\n",
    "categorical_test_labels = tf.keras.utils.to_categorical(test_labels)"
   ]
  },
  {
   "cell_type": "code",
   "execution_count": 5,
   "metadata": {},
   "outputs": [
    {
     "data": {
      "image/png": "[encoded data removed]",
      "text/plain": [
       "<Figure size 432x288 with 10 Axes>"
      ]
     },
     "metadata": {},
     "output_type": "display_data"
    }
   ],
   "source": [
    "plt.figure()\n",
    "for i in range(10):\n",
    "    plt.subplot(1, 10, i+1)\n",
    "    plt.xticks([])\n",
    "    plt.yticks([])\n",
    "    plt.grid(False)\n",
    "    plt.imshow(train_images[i], cmap=plt.cm.binary)\n",
    "    plt.xlabel(train_labels[i])\n",
    "plt.show()"
   ]
  },
  {
   "cell_type": "markdown",
   "metadata": {},
   "source": [
    "## Model"
   ]
  },
  {
   "cell_type": "markdown",
   "metadata": {},
   "source": [
    "We use a logistic regression model to classify each image."
   ]
  },
  {
   "cell_type": "code",
   "execution_count": 6,
   "metadata": {},
   "outputs": [],
   "source": [
    "tf.keras.backend.set_floatx('float64')\n",
    "\n",
    "model = tf.keras.Sequential([\n",
    "    tf.keras.layers.Flatten(input_shape=(28,28)),\n",
    "    tf.keras.layers.Dense(10, kernel_regularizer='l2', bias_regularizer='l2')\n",
    "])\n",
    "\n",
    "model.compile(\n",
    "    optimizer='adam',\n",
    "    loss=tf.keras.losses.CategoricalCrossentropy(from_logits=True),\n",
    "    metrics=['accuracy']\n",
    ")"
   ]
  },
  {
   "cell_type": "markdown",
   "metadata": {},
   "source": [
    "*Note: As Scipy uses float64 by default, running our model in float64 saves time by reducing need for casting.*\n",
    "\n",
    "*Note: Auto-differentiation is not supported for tf.keras.losses.SparseCategoricalCrossentropy(), hence we use tf.keras.losses.CategoricalCrossentropy() instead, and we have processed our labels as needed.*"
   ]
  },
  {
   "cell_type": "code",
   "execution_count": 7,
   "metadata": {
    "scrolled": true
   },
   "outputs": [
    {
     "name": "stdout",
     "output_type": "stream",
     "text": [
      "Train on 54000 samples, validate on 6000 samples\n",
      "Epoch 1/10\n",
      "54000/54000 [==============================] - 6s 119us/sample - loss: 0.7892 - accuracy: 0.8585 - val_loss: 0.6235 - val_accuracy: 0.9072\n",
      "Epoch 2/10\n",
      "54000/54000 [==============================] - 6s 105us/sample - loss: 0.6942 - accuracy: 0.8855 - val_loss: 0.6234 - val_accuracy: 0.9108\n",
      "Epoch 3/10\n",
      "54000/54000 [==============================] - 6s 102us/sample - loss: 0.6945 - accuracy: 0.8858 - val_loss: 0.6285 - val_accuracy: 0.9090\n",
      "Epoch 4/10\n",
      "54000/54000 [==============================] - 6s 102us/sample - loss: 0.6939 - accuracy: 0.8863 - val_loss: 0.6213 - val_accuracy: 0.9117\n",
      "Epoch 5/10\n",
      "54000/54000 [==============================] - 6s 103us/sample - loss: 0.6945 - accuracy: 0.8849 - val_loss: 0.6242 - val_accuracy: 0.9115\n",
      "Epoch 6/10\n",
      "54000/54000 [==============================] - 5s 101us/sample - loss: 0.6949 - accuracy: 0.8847 - val_loss: 0.6265 - val_accuracy: 0.9133\n",
      "Epoch 7/10\n",
      "54000/54000 [==============================] - 6s 104us/sample - loss: 0.6941 - accuracy: 0.8849 - val_loss: 0.6229 - val_accuracy: 0.9100\n",
      "Epoch 8/10\n",
      "54000/54000 [==============================] - 6s 106us/sample - loss: 0.6944 - accuracy: 0.8845 - val_loss: 0.6239 - val_accuracy: 0.9138\n",
      "Epoch 9/10\n",
      "54000/54000 [==============================] - 6s 105us/sample - loss: 0.6943 - accuracy: 0.8848 - val_loss: 0.6280 - val_accuracy: 0.9102\n",
      "Epoch 10/10\n",
      "54000/54000 [==============================] - 6s 106us/sample - loss: 0.6937 - accuracy: 0.8854 - val_loss: 0.6219 - val_accuracy: 0.9128\n"
     ]
    },
    {
     "data": {
      "text/plain": [
       "<tensorflow.python.keras.callbacks.History at 0x1e008fa3248>"
      ]
     },
     "execution_count": 7,
     "metadata": {},
     "output_type": "execute_result"
    }
   ],
   "source": [
    "model.fit(\n",
    "    train_images,\n",
    "    categorical_train_labels,\n",
    "    epochs=10,\n",
    "    validation_split=0.1\n",
    ")"
   ]
  },
  {
   "cell_type": "code",
   "execution_count": 8,
   "metadata": {
    "scrolled": true
   },
   "outputs": [
    {
     "name": "stdout",
     "output_type": "stream",
     "text": [
      "Calculating inverse HVP using Conjugate Gradient method:\n",
      "Current error: 4.539898843434823 , Relative error: 0.6540244698030632\n",
      "Current error: 6.958545621541236 , Relative error: 1.0024582634281047\n",
      "Current error: 1.5025391941455872 , Relative error: 0.21645799470410546\n",
      "Current error: 1.1594706099925718 , Relative error: 0.1670350325204361\n",
      "Current error: 1.2568639881735268 , Relative error: 0.18106566507940644\n",
      "Current error: 0.49576814000317043 , Relative error: 0.07142108361725204\n",
      "Current error: 0.3617989344115435 , Relative error: 0.05212128384666729\n",
      "Current error: 0.2787610411255575 , Relative error: 0.040158723445466574\n",
      "Current error: 0.13800081177993445 , Relative error: 0.019880598856796907\n",
      "Current error: 0.1150232159181661 , Relative error: 0.016570412777965202\n",
      "Current error: 0.10296123515515135 , Relative error: 0.014832746181117223\n",
      "Current error: 0.05428269813556518 , Relative error: 0.007820044915523332\n",
      "Current error: 0.03818745730862594 , Relative error: 0.0055013409727219945\n",
      "Current error: 0.040513020014129895 , Relative error: 0.0058363649386547365\n",
      "Current error: 0.014996522150391918 , Relative error: 0.002160420922700406\n",
      "Current error: 0.013321839470991144 , Relative error: 0.0019191636856438225\n",
      "Current error: 0.008487779180107556 , Relative error: 0.0012227618873277256\n",
      "Current error: 0.0062626580211812485 , Relative error: 0.0009022076775530186\n",
      "Current error: 0.004842349386220534 , Relative error: 0.0006975959375182805\n",
      "Current error: 0.0029384115727138704 , Relative error: 0.0004233118704145779\n",
      "Current error: 0.0018935344132701853 , Relative error: 0.00027278533804421024\n",
      "Current error: 0.0028618995137040704 , Relative error: 0.0004122894312472847\n",
      "Current error: 0.001603192924589996 , Relative error: 0.0002309583183804363\n",
      "Current error: 0.0012035366529843392 , Relative error: 0.0001733832511477491\n",
      "Current error: 0.0010808505909029767 , Relative error: 0.00015570891753984858\n",
      "Current error: 0.0003222060226372664 , Relative error: 4.641747104727473e-05\n",
      "Current error: 0.0002922715701707047 , Relative error: 4.2105070027238854e-05\n",
      "Current error: 0.0001843968538162886 , Relative error: 2.6564480555541803e-05\n",
      "Current error: 0.00012339875436825397 , Relative error: 1.777700510150461e-05\n",
      "Current error: 0.00011238067388662684 , Relative error: 1.618972430654495e-05\n",
      "Optimization terminated successfully.\n",
      "         Current function value: -90.944431\n",
      "         Iterations: 30\n",
      "         Function evaluations: 43\n",
      "         Gradient evaluations: 43\n",
      "Wall time: 29 s\n"
     ]
    },
    {
     "data": {
      "text/plain": [
       "-0.08112733098883013"
      ]
     },
     "execution_count": 8,
     "metadata": {},
     "output_type": "execute_result"
    }
   ],
   "source": [
    "%%time\n",
    "\n",
    "influence_model = InfluenceModel(\n",
    "    model,\n",
    "    train_images,\n",
    "    categorical_train_labels,\n",
    "    model.loss,\n",
    "    0,\n",
    "    damping=0.1,\n",
    "    dtype=np.float64,\n",
    "    verbose=True\n",
    ")\n",
    "\n",
    "influence_model.get_influence_on_loss(\n",
    "    test_images[0],\n",
    "    categorical_test_labels[0]\n",
    ")"
   ]
  },
  {
   "cell_type": "code",
   "execution_count": 9,
   "metadata": {
    "scrolled": true
   },
   "outputs": [
    {
     "name": "stdout",
     "output_type": "stream",
     "text": [
      "Calculating inverse HVP using Conjugate Gradient method:\n",
      "Current error: 4.539898843434823 , Relative error: 0.6540244698030632\n",
      "Current error: 6.958545621541236 , Relative error: 1.0024582634281047\n",
      "Current error: 1.5025391941455872 , Relative error: 0.21645799470410546\n",
      "Current error: 1.1594706099925718 , Relative error: 0.1670350325204361\n",
      "Current error: 1.2568639881735268 , Relative error: 0.18106566507940644\n",
      "Current error: 0.49576814000317043 , Relative error: 0.07142108361725204\n",
      "Current error: 0.3617989344115435 , Relative error: 0.05212128384666729\n",
      "Current error: 0.2787610411255575 , Relative error: 0.040158723445466574\n",
      "Current error: 0.13800081177993445 , Relative error: 0.019880598856796907\n",
      "Current error: 0.1150232159181661 , Relative error: 0.016570412777965202\n",
      "Current error: 0.10296123515515135 , Relative error: 0.014832746181117223\n",
      "Current error: 0.05428269813556518 , Relative error: 0.007820044915523332\n",
      "Optimization terminated successfully.\n",
      "         Current function value: -90.941817\n",
      "         Iterations: 12\n",
      "         Function evaluations: 22\n",
      "         Gradient evaluations: 22\n",
      "Wall time: 13.9 s\n"
     ]
    },
    {
     "data": {
      "text/plain": [
       "-0.07672681223332037"
      ]
     },
     "execution_count": 9,
     "metadata": {},
     "output_type": "execute_result"
    }
   ],
   "source": [
    "%%time\n",
    "\n",
    "influence_model = InfluenceModel(\n",
    "    model,\n",
    "    train_images,\n",
    "    categorical_train_labels,\n",
    "    model.loss,\n",
    "    0,\n",
    "    damping=0.1,\n",
    "    dtype=np.float64,\n",
    "    verbose=True,\n",
    "    cg_tol=1e-02\n",
    ")\n",
    "\n",
    "influence_model.get_influence_on_loss(\n",
    "    test_images[0],\n",
    "    categorical_test_labels[0]\n",
    ")"
   ]
  },
  {
   "cell_type": "code",
   "execution_count": 10,
   "metadata": {},
   "outputs": [
    {
     "name": "stdout",
     "output_type": "stream",
     "text": [
      "Calculating inverse HVP using LiSSA method:\n",
      "Sample 1 with depth 500 - Current error: 0.04062685116835949 , Relative error: 0.5852763752101179\n",
      "Sample 2 with depth 500 - Current error: 0.041336604361159573 , Relative error: 0.5955011837795636\n",
      "Overall error: 0.039850383019833555 , Overall relative error: 0.574090461205803\n",
      "Wall time: 16 s\n"
     ]
    },
    {
     "data": {
      "text/plain": [
       "-0.05627619461906666"
      ]
     },
     "execution_count": 10,
     "metadata": {},
     "output_type": "execute_result"
    }
   ],
   "source": [
    "%%time\n",
    "\n",
    "influence_model = InfluenceModel(\n",
    "    model,\n",
    "    train_images,\n",
    "    categorical_train_labels,\n",
    "    model.loss,\n",
    "    0,\n",
    "    dtype=np.float64,\n",
    "    verbose=True,\n",
    "    method='lissa',\n",
    "    scaling=0.01,\n",
    "    lissa_samples=2,\n",
    "    lissa_depth=500\n",
    ")\n",
    "\n",
    "influence_model.get_influence_on_loss(\n",
    "    test_images[0],\n",
    "    categorical_test_labels[0]\n",
    ")"
   ]
  },
  {
   "cell_type": "code",
   "execution_count": 11,
   "metadata": {},
   "outputs": [
    {
     "name": "stdout",
     "output_type": "stream",
     "text": [
      "Calculating inverse HVP using LiSSA method:\n",
      "Sample 1 with depth 1000 - Current error: 0.06468555262149593 , Relative error: 0.9318695561682443\n",
      "Overall error: 0.06468555262149593 , Overall relative error: 0.9318695561682443\n",
      "Wall time: 16.1 s\n"
     ]
    },
    {
     "data": {
      "text/plain": [
       "-0.06447038857042435"
      ]
     },
     "execution_count": 11,
     "metadata": {},
     "output_type": "execute_result"
    }
   ],
   "source": [
    "%%time\n",
    "\n",
    "influence_model = InfluenceModel(\n",
    "    model,\n",
    "    train_images,\n",
    "    categorical_train_labels,\n",
    "    model.loss,\n",
    "    0,\n",
    "    dtype=np.float64,\n",
    "    verbose=True,\n",
    "    method='lissa',\n",
    "    scaling=0.01,\n",
    "    lissa_samples=1,\n",
    "    lissa_depth=1000\n",
    ")\n",
    "\n",
    "influence_model.get_influence_on_loss(\n",
    "    test_images[0],\n",
    "    categorical_test_labels[0]\n",
    ")"
   ]
  },
  {
   "cell_type": "code",
   "execution_count": 12,
   "metadata": {},
   "outputs": [
    {
     "data": {
      "text/plain": [
       "[PhysicalDevice(name='/physical_device:CPU:0', device_type='CPU'),\n",
       " PhysicalDevice(name='/physical_device:GPU:0', device_type='GPU')]"
      ]
     },
     "execution_count": 12,
     "metadata": {},
     "output_type": "execute_result"
    }
   ],
   "source": [
    "tf.config.experimental.list_physical_devices()"
   ]
  },
  {
   "cell_type": "code",
   "execution_count": null,
   "metadata": {},
   "outputs": [],
   "source": []
  }
 ],
 "metadata": {
  "kernelspec": {
   "display_name": "Python 3",
   "language": "python",
   "name": "python3"
  },
  "language_info": {
   "codemirror_mode": {
    "name": "ipython",
    "version": 3
   },
   "file_extension": ".py",
   "mimetype": "text/x-python",
   "name": "python",
   "nbconvert_exporter": "python",
   "pygments_lexer": "ipython3",
   "version": "3.7.9"
  }
 },
 "nbformat": 4,
 "nbformat_minor": 4
}
