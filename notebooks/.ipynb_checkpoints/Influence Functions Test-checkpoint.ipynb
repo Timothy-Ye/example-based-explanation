{
 "cells": [
  {
   "cell_type": "code",
   "execution_count": 2,
   "metadata": {},
   "outputs": [],
   "source": [
    "import numpy as np\n",
    "import tensorflow as tf"
   ]
  },
  {
   "cell_type": "code",
   "execution_count": 3,
   "metadata": {},
   "outputs": [],
   "source": [
    "import sys\n",
    "sys.path.append('../')"
   ]
  },
  {
   "cell_type": "code",
   "execution_count": 4,
   "metadata": {},
   "outputs": [],
   "source": [
    "from influence.influence_model import InfluenceModel"
   ]
  },
  {
   "cell_type": "code",
   "execution_count": 5,
   "metadata": {},
   "outputs": [
    {
     "name": "stdout",
     "output_type": "stream",
     "text": [
      "Train on 60000 samples\n",
      "Epoch 1/10\n",
      "60000/60000 [==============================] - 3s 48us/sample - loss: 0.9708 - accuracy: 0.7858\n",
      "Epoch 2/10\n",
      "60000/60000 [==============================] - 2s 38us/sample - loss: 0.8562 - accuracy: 0.8073\n",
      "Epoch 3/10\n",
      "60000/60000 [==============================] - 2s 37us/sample - loss: 0.8451 - accuracy: 0.8135\n",
      "Epoch 4/10\n",
      "60000/60000 [==============================] - 2s 37us/sample - loss: 0.8432 - accuracy: 0.8123\n",
      "Epoch 5/10\n",
      "60000/60000 [==============================] - 3s 42us/sample - loss: 0.8429 - accuracy: 0.8132\n",
      "Epoch 6/10\n",
      "60000/60000 [==============================] - 3s 42us/sample - loss: 0.8412 - accuracy: 0.8138\n",
      "Epoch 7/10\n",
      "60000/60000 [==============================] - 2s 39us/sample - loss: 0.8388 - accuracy: 0.8146\n",
      "Epoch 8/10\n",
      "60000/60000 [==============================] - 2s 37us/sample - loss: 0.8374 - accuracy: 0.8152\n",
      "Epoch 9/10\n",
      "60000/60000 [==============================] - 2s 38us/sample - loss: 0.8369 - accuracy: 0.8141\n",
      "Epoch 10/10\n",
      "60000/60000 [==============================] - 2s 37us/sample - loss: 0.8356 - accuracy: 0.8157\n"
     ]
    },
    {
     "data": {
      "text/plain": [
       "<tensorflow.python.keras.callbacks.History at 0x2a714329c48>"
      ]
     },
     "execution_count": 5,
     "metadata": {},
     "output_type": "execute_result"
    }
   ],
   "source": [
    "# Simple Keras model for MNIST Fashion Dataset, based on TensorFlow tutorials.\n",
    "\n",
    "fashion_mnist = tf.keras.datasets.fashion_mnist\n",
    "\n",
    "(train_images, train_labels), (test_images, test_labels) = fashion_mnist.load_data()\n",
    "\n",
    "class_names = ['T-shirt/top', 'Trouser', 'Pullover', 'Dress', 'Coat',\n",
    "               'Sandal', 'Shirt', 'Sneaker', 'Bag', 'Ankle boot']\n",
    "\n",
    "train_images = train_images / 255.0\n",
    "test_images = test_images / 255.0\n",
    "\n",
    "train_labels = tf.keras.utils.to_categorical(train_labels)\n",
    "test_labels = tf.keras.utils.to_categorical(test_labels)\n",
    "\n",
    "tf.keras.backend.set_floatx('float64')\n",
    "\n",
    "model = tf.keras.Sequential([\n",
    "    tf.keras.layers.Flatten(input_shape=(28, 28)),\n",
    "    tf.keras.layers.Dense(32, activation='relu', kernel_regularizer='l2', bias_regularizer='l2'),\n",
    "    tf.keras.layers.Dense(10, kernel_regularizer='l2', bias_regularizer='l2')\n",
    "])\n",
    "\n",
    "model.compile(optimizer='adam',\n",
    "              loss=tf.keras.losses.CategoricalCrossentropy(from_logits=True),\n",
    "              metrics=['accuracy'])\n",
    "\n",
    "model.fit(train_images, train_labels, epochs=10)"
   ]
  },
  {
   "cell_type": "code",
   "execution_count": 6,
   "metadata": {},
   "outputs": [],
   "source": [
    "influence_model = InfluenceModel(\n",
    "    model,\n",
    "    train_images,\n",
    "    train_labels,\n",
    "    train_images[0:1],\n",
    "    train_labels[0:1],\n",
    "    model.loss,\n",
    "    scaling=0.01,\n",
    "    damping=0.01,\n",
    "    verbose=True\n",
    ")"
   ]
  },
  {
   "cell_type": "code",
   "execution_count": 7,
   "metadata": {},
   "outputs": [
    {
     "name": "stdout",
     "output_type": "stream",
     "text": [
      "Calculating Inverse HVP:\n",
      "CG Loss:  -0.005001211971627164 ; CG Jac Norm: 0.007075833650050369\n",
      "CG Loss:  -0.0062344257700636865 ; CG Jac Norm: 0.010553661074248776\n",
      "CG Loss:  -0.0067470942426044785 ; CG Jac Norm: 0.005126726673837058\n",
      "CG Loss:  -0.0069045414694347464 ; CG Jac Norm: 0.0021076042814804834\n",
      "CG Loss:  -0.006936007503719323 ; CG Jac Norm: 0.00189031153632285\n",
      "CG Loss:  -0.006953175223061584 ; CG Jac Norm: 0.0010586001510015704\n",
      "CG Loss:  -0.006965195335565168 ; CG Jac Norm: 0.0005608203078566206\n",
      "CG Loss:  -0.006967983270930454 ; CG Jac Norm: 0.0006217723812858111\n",
      "CG Loss:  -0.00697050594050018 ; CG Jac Norm: 0.0003505611432347321\n",
      "CG Loss:  -0.006972237577073869 ; CG Jac Norm: 0.00023424323149500982\n",
      "CG Loss:  -0.00697264474598764 ; CG Jac Norm: 0.000230729812807482\n",
      "CG Loss:  -0.006973005884011497 ; CG Jac Norm: 0.00016267523026280027\n",
      "CG Loss:  -0.006973263640595421 ; CG Jac Norm: 0.0001740099614573226\n",
      "CG Loss:  -0.006973445905731911 ; CG Jac Norm: 0.00013267265302663526\n",
      "CG Loss:  -0.006973599102800069 ; CG Jac Norm: 6.51910851269413e-05\n",
      "CG Loss:  -0.006973642475393157 ; CG Jac Norm: 7.031891162235501e-05\n",
      "CG Loss:  -0.006973665480423899 ; CG Jac Norm: 3.692391489874672e-05\n",
      "Optimization terminated successfully.\n",
      "         Current function value: -0.006974\n",
      "         Iterations: 17\n",
      "         Function evaluations: 53\n",
      "         Gradient evaluations: 53\n"
     ]
    },
    {
     "data": {
      "text/plain": [
       "2.600598323995751"
      ]
     },
     "execution_count": 7,
     "metadata": {},
     "output_type": "execute_result"
    }
   ],
   "source": [
    "influence_model.get_influence_on_loss(\n",
    "    test_images[0:1],\n",
    "    test_labels[0:1]\n",
    ")"
   ]
  },
  {
   "cell_type": "code",
   "execution_count": 8,
   "metadata": {},
   "outputs": [
    {
     "data": {
      "text/plain": [
       "3.1436088590128963"
      ]
     },
     "execution_count": 8,
     "metadata": {},
     "output_type": "execute_result"
    }
   ],
   "source": [
    "influence_model.get_theta_relatif(\n",
    "    test_images[0:1],\n",
    "    test_labels[0:1]\n",
    ")"
   ]
  },
  {
   "cell_type": "code",
   "execution_count": 9,
   "metadata": {},
   "outputs": [
    {
     "data": {
      "text/plain": [
       "22.02253249488743"
      ]
     },
     "execution_count": 9,
     "metadata": {},
     "output_type": "execute_result"
    }
   ],
   "source": [
    "influence_model.get_l_relatif(\n",
    "    test_images[0:1],\n",
    "    test_labels[0:1]\n",
    ")"
   ]
  },
  {
   "cell_type": "code",
   "execution_count": null,
   "metadata": {},
   "outputs": [],
   "source": []
  }
 ],
 "metadata": {
  "kernelspec": {
   "display_name": "Python 3",
   "language": "python",
   "name": "python3"
  },
  "language_info": {
   "codemirror_mode": {
    "name": "ipython",
    "version": 3
   },
   "file_extension": ".py",
   "mimetype": "text/x-python",
   "name": "python",
   "nbconvert_exporter": "python",
   "pygments_lexer": "ipython3",
   "version": "3.7.9"
  }
 },
 "nbformat": 4,
 "nbformat_minor": 4
}
