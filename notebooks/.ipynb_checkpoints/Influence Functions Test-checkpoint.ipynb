{
 "cells": [
  {
   "cell_type": "code",
   "execution_count": 1,
   "metadata": {},
   "outputs": [],
   "source": [
    "import numpy as np\n",
    "import tensorflow as tf"
   ]
  },
  {
   "cell_type": "code",
   "execution_count": 2,
   "metadata": {},
   "outputs": [],
   "source": [
    "import sys\n",
    "sys.path.append('../')"
   ]
  },
  {
   "cell_type": "code",
   "execution_count": 3,
   "metadata": {},
   "outputs": [],
   "source": [
    "from influence.influence_model import InfluenceModel"
   ]
  },
  {
   "cell_type": "code",
   "execution_count": 4,
   "metadata": {},
   "outputs": [
    {
     "name": "stdout",
     "output_type": "stream",
     "text": [
      "Train on 60000 samples\n",
      "Epoch 1/10\n",
      "60000/60000 [==============================] - 3s 45us/sample - loss: 0.9576 - accuracy: 0.7853\n",
      "Epoch 2/10\n",
      "60000/60000 [==============================] - 2s 37us/sample - loss: 0.8515 - accuracy: 0.8101\n",
      "Epoch 3/10\n",
      "60000/60000 [==============================] - 2s 37us/sample - loss: 0.8483 - accuracy: 0.8103\n",
      "Epoch 4/10\n",
      "60000/60000 [==============================] - 2s 38us/sample - loss: 0.8446 - accuracy: 0.8102\n",
      "Epoch 5/10\n",
      "60000/60000 [==============================] - 2s 37us/sample - loss: 0.8436 - accuracy: 0.8109\n",
      "Epoch 6/10\n",
      "60000/60000 [==============================] - 2s 37us/sample - loss: 0.8417 - accuracy: 0.8116\n",
      "Epoch 7/10\n",
      "60000/60000 [==============================] - 2s 37us/sample - loss: 0.8394 - accuracy: 0.8130\n",
      "Epoch 8/10\n",
      "60000/60000 [==============================] - 2s 37us/sample - loss: 0.8391 - accuracy: 0.8145\n",
      "Epoch 9/10\n",
      "60000/60000 [==============================] - 2s 37us/sample - loss: 0.8371 - accuracy: 0.8155\n",
      "Epoch 10/10\n",
      "60000/60000 [==============================] - 2s 37us/sample - loss: 0.8366 - accuracy: 0.8147\n"
     ]
    },
    {
     "data": {
      "text/plain": [
       "<tensorflow.python.keras.callbacks.History at 0x235c5608ec8>"
      ]
     },
     "execution_count": 4,
     "metadata": {},
     "output_type": "execute_result"
    }
   ],
   "source": [
    "# Simple Keras model for MNIST Fashion Dataset, based on TensorFlow tutorials.\n",
    "\n",
    "fashion_mnist = tf.keras.datasets.fashion_mnist\n",
    "\n",
    "(train_images, train_labels), (test_images, test_labels) = fashion_mnist.load_data()\n",
    "\n",
    "class_names = ['T-shirt/top', 'Trouser', 'Pullover', 'Dress', 'Coat',\n",
    "               'Sandal', 'Shirt', 'Sneaker', 'Bag', 'Ankle boot']\n",
    "\n",
    "train_images = train_images / 255.0\n",
    "test_images = test_images / 255.0\n",
    "\n",
    "train_labels = tf.keras.utils.to_categorical(train_labels)\n",
    "test_labels = tf.keras.utils.to_categorical(test_labels)\n",
    "\n",
    "tf.keras.backend.set_floatx('float64')\n",
    "\n",
    "model = tf.keras.Sequential([\n",
    "    tf.keras.layers.Flatten(input_shape=(28, 28)),\n",
    "    tf.keras.layers.Dense(32, activation='relu', kernel_regularizer='l2', bias_regularizer='l2'),\n",
    "    tf.keras.layers.Dense(10, kernel_regularizer='l2', bias_regularizer='l2')\n",
    "])\n",
    "\n",
    "model.compile(optimizer='adam',\n",
    "              loss=tf.keras.losses.CategoricalCrossentropy(from_logits=True),\n",
    "              metrics=['accuracy'])\n",
    "\n",
    "model.fit(train_images, train_labels, epochs=10)"
   ]
  },
  {
   "cell_type": "code",
   "execution_count": 5,
   "metadata": {},
   "outputs": [],
   "source": [
    "influence_model = InfluenceModel(\n",
    "    model,\n",
    "    train_images,\n",
    "    train_labels,\n",
    "    train_images[0:1],\n",
    "    train_labels[0:1],\n",
    "    scaling=0.01,\n",
    "    damping=0.01,\n",
    "    verbose=True\n",
    ")"
   ]
  },
  {
   "cell_type": "code",
   "execution_count": 6,
   "metadata": {},
   "outputs": [
    {
     "name": "stdout",
     "output_type": "stream",
     "text": [
      "Calculating Inverse HVP:\n",
      "CG Loss:  -0.003268787044142841 ; CG Jac Norm: 0.007168679789995353\n",
      "CG Loss:  -0.0037032495863597876 ; CG Jac Norm: 0.007744923151369104\n",
      "CG Loss:  -0.004262457488300147 ; CG Jac Norm: 0.0055847403264951455\n",
      "CG Loss:  -0.004552855701965583 ; CG Jac Norm: 0.001915525658243198\n",
      "CG Loss:  -0.004570243124307255 ; CG Jac Norm: 0.0016108177905804143\n",
      "CG Loss:  -0.004593571868658734 ; CG Jac Norm: 0.0007941447677861798\n",
      "CG Loss:  -0.004598281196072438 ; CG Jac Norm: 0.00026963080057646865\n",
      "CG Loss:  -0.004599230521192305 ; CG Jac Norm: 0.00011620574984226371\n",
      "CG Loss:  -0.004599601280838015 ; CG Jac Norm: 0.00011592765342225724\n",
      "CG Loss:  -0.004599722522418748 ; CG Jac Norm: 5.122370652671408e-05\n",
      "CG Loss:  -0.004599736205857406 ; CG Jac Norm: 4.617451250323251e-05\n",
      "Optimization terminated successfully.\n",
      "         Current function value: -0.004600\n",
      "         Iterations: 11\n",
      "         Function evaluations: 35\n",
      "         Gradient evaluations: 35\n"
     ]
    },
    {
     "data": {
      "text/plain": [
       "1.839148624912117"
      ]
     },
     "execution_count": 6,
     "metadata": {},
     "output_type": "execute_result"
    }
   ],
   "source": [
    "influence_model.get_influence_on_loss(\n",
    "    test_images[0:1],\n",
    "    test_labels[0:1]\n",
    ")"
   ]
  },
  {
   "cell_type": "code",
   "execution_count": 7,
   "metadata": {},
   "outputs": [
    {
     "data": {
      "text/plain": [
       "2.781820466657611"
      ]
     },
     "execution_count": 7,
     "metadata": {},
     "output_type": "execute_result"
    }
   ],
   "source": [
    "influence_model.get_theta_relatif(\n",
    "    test_images[0:1],\n",
    "    test_labels[0:1]\n",
    ")"
   ]
  },
  {
   "cell_type": "code",
   "execution_count": 8,
   "metadata": {},
   "outputs": [
    {
     "data": {
      "text/plain": [
       "19.17644152640718"
      ]
     },
     "execution_count": 8,
     "metadata": {},
     "output_type": "execute_result"
    }
   ],
   "source": [
    "influence_model.get_l_relatif(\n",
    "    test_images[0:1],\n",
    "    test_labels[0:1]\n",
    ")"
   ]
  }
 ],
 "metadata": {
  "kernelspec": {
   "display_name": "Python 3",
   "language": "python",
   "name": "python3"
  },
  "language_info": {
   "codemirror_mode": {
    "name": "ipython",
    "version": 3
   },
   "file_extension": ".py",
   "mimetype": "text/x-python",
   "name": "python",
   "nbconvert_exporter": "python",
   "pygments_lexer": "ipython3",
   "version": "3.7.9"
  }
 },
 "nbformat": 4,
 "nbformat_minor": 4
}
