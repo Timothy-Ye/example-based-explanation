{
 "cells": [
  {
   "cell_type": "code",
   "execution_count": 1,
   "metadata": {},
   "outputs": [],
   "source": [
    "import sys\n",
    "sys.path.append('../')"
   ]
  },
  {
   "cell_type": "code",
   "execution_count": 2,
   "metadata": {},
   "outputs": [],
   "source": [
    "import numpy as np\n",
    "import tensorflow as tf\n",
    "import matplotlib.pyplot as plt\n",
    "import seaborn as sns\n",
    "sns.set()"
   ]
  },
  {
   "cell_type": "code",
   "execution_count": 3,
   "metadata": {},
   "outputs": [],
   "source": [
    "from influence.influence_model import InfluenceModel"
   ]
  },
  {
   "cell_type": "code",
   "execution_count": 4,
   "metadata": {},
   "outputs": [],
   "source": [
    "mnist_dataset = tf.keras.datasets.mnist\n",
    "(train_images, train_labels), (test_images, test_labels) = mnist_dataset.load_data()\n",
    "\n",
    "train_images = train_images / 255.0\n",
    "test_images = test_images / 255.0\n",
    "\n",
    "categorical_train_labels = tf.keras.utils.to_categorical(train_labels)\n",
    "categorical_test_labels = tf.keras.utils.to_categorical(test_labels)"
   ]
  },
  {
   "cell_type": "code",
   "execution_count": 5,
   "metadata": {},
   "outputs": [],
   "source": [
    "num_training_points = 54000"
   ]
  },
  {
   "cell_type": "code",
   "execution_count": 35,
   "metadata": {},
   "outputs": [],
   "source": [
    "tf.keras.backend.set_floatx(\"float64\")\n",
    "\n",
    "model = tf.keras.Sequential(\n",
    "    [\n",
    "        tf.keras.layers.Flatten(input_shape=(28, 28)),\n",
    "        tf.keras.layers.Dense(10, kernel_regularizer=\"l2\", bias_regularizer=\"l2\"),\n",
    "    ]\n",
    ")\n",
    "\n",
    "model.compile(\n",
    "    optimizer=\"adam\",\n",
    "    loss=tf.keras.losses.CategoricalCrossentropy(from_logits=True),\n",
    "    metrics=[\"accuracy\"],\n",
    ")"
   ]
  },
  {
   "cell_type": "code",
   "execution_count": 43,
   "metadata": {},
   "outputs": [
    {
     "data": {
      "text/plain": [
       "0.6520048"
      ]
     },
     "execution_count": 43,
     "metadata": {},
     "output_type": "execute_result"
    }
   ],
   "source": [
    "model.load_weights(\"../output/mnist_checkpoint\")\n",
    "original_loss = model.loss(model(test_images[8:9]), categorical_test_labels[8:9]).numpy()\n",
    "original_loss"
   ]
  },
  {
   "cell_type": "code",
   "execution_count": 44,
   "metadata": {},
   "outputs": [
    {
     "data": {
      "text/plain": [
       "2.1196294346244073"
      ]
     },
     "execution_count": 44,
     "metadata": {},
     "output_type": "execute_result"
    }
   ],
   "source": [
    "influence_model = InfluenceModel(\n",
    "    model,\n",
    "    train_images[:num_training_points],\n",
    "    categorical_train_labels[:num_training_points],\n",
    "    model.loss,\n",
    "    36,\n",
    "    damping=0.2,\n",
    "    dtype=np.float64,\n",
    "    cg_tol=1e-05,\n",
    ")\n",
    "influence_value = influence_model.get_influence_on_loss(test_images[8], categorical_test_labels[8])\n",
    "influence_value"
   ]
  },
  {
   "cell_type": "code",
   "execution_count": 45,
   "metadata": {},
   "outputs": [
    {
     "data": {
      "text/plain": [
       "-3.9252396937489025e-05"
      ]
     },
     "execution_count": 45,
     "metadata": {},
     "output_type": "execute_result"
    }
   ],
   "source": [
    "pred_diff_in_loss = -(1.0/num_training_points) * influence_value\n",
    "pred_diff_in_loss"
   ]
  },
  {
   "cell_type": "code",
   "execution_count": 39,
   "metadata": {},
   "outputs": [],
   "source": [
    "trimmed_train_images = np.delete(train_images[:num_training_points], 36, axis=0)\n",
    "trimmed_train_labels = np.delete(categorical_train_labels[:num_training_points], 36, axis=0)"
   ]
  },
  {
   "cell_type": "code",
   "execution_count": 40,
   "metadata": {},
   "outputs": [
    {
     "name": "stdout",
     "output_type": "stream",
     "text": [
      "Epoch 1/10\n",
      "1688/1688 [==============================] - 1s 723us/step - loss: 0.6942 - accuracy: 0.8854\n",
      "Epoch 2/10\n",
      "1688/1688 [==============================] - 1s 702us/step - loss: 0.6944 - accuracy: 0.88500s - loss: 0.6958 - accu\n",
      "Epoch 3/10\n",
      "1688/1688 [==============================] - 1s 709us/step - loss: 0.6950 - accuracy: 0.8846\n",
      "Epoch 4/10\n",
      "1688/1688 [==============================] - 1s 735us/step - loss: 0.6946 - accuracy: 0.8856\n",
      "Epoch 5/10\n",
      "1688/1688 [==============================] - 1s 707us/step - loss: 0.6941 - accuracy: 0.8848\n",
      "Epoch 6/10\n",
      "1688/1688 [==============================] - 1s 700us/step - loss: 0.6940 - accuracy: 0.8853\n",
      "Epoch 7/10\n",
      "1688/1688 [==============================] - 1s 730us/step - loss: 0.6944 - accuracy: 0.8854\n",
      "Epoch 8/10\n",
      "1688/1688 [==============================] - 1s 709us/step - loss: 0.6946 - accuracy: 0.8854\n",
      "Epoch 9/10\n",
      "1688/1688 [==============================] - 1s 709us/step - loss: 0.6944 - accuracy: 0.8850\n",
      "Epoch 10/10\n",
      "1688/1688 [==============================] - 1s 710us/step - loss: 0.6945 - accuracy: 0.8852\n"
     ]
    },
    {
     "data": {
      "text/plain": [
       "<tensorflow.python.keras.callbacks.History at 0x26f390b8448>"
      ]
     },
     "execution_count": 40,
     "metadata": {},
     "output_type": "execute_result"
    }
   ],
   "source": [
    "model.load_weights(\"../output/mnist_checkpoint\")\n",
    "model.fit(train_images[:num_training_points], categorical_train_labels[:num_training_points], epochs=10)"
   ]
  },
  {
   "cell_type": "code",
   "execution_count": 41,
   "metadata": {},
   "outputs": [
    {
     "data": {
      "text/plain": [
       "-1.0406034"
      ]
     },
     "execution_count": 41,
     "metadata": {},
     "output_type": "execute_result"
    }
   ],
   "source": [
    "new_loss = model.loss(model(test_images[8:9]), categorical_test_labels[8:9]).numpy()\n",
    "new_loss"
   ]
  },
  {
   "cell_type": "code",
   "execution_count": 42,
   "metadata": {},
   "outputs": [
    {
     "data": {
      "text/plain": [
       "-1.6926081"
      ]
     },
     "execution_count": 42,
     "metadata": {},
     "output_type": "execute_result"
    }
   ],
   "source": [
    "actual_diff_in_loss = new_loss - original_loss\n",
    "actual_diff_in_loss"
   ]
  },
  {
   "cell_type": "code",
   "execution_count": 27,
   "metadata": {},
   "outputs": [],
   "source": [
    "model.load_weights(\"../output/mnist_checkpoint\")\n",
    "predictions = np.argmax(model(test_images), axis=1)"
   ]
  },
  {
   "cell_type": "code",
   "execution_count": 32,
   "metadata": {},
   "outputs": [
    {
     "data": {
      "image/png": "[encoded data removed]",
      "text/plain": [
       "<Figure size 921.6x691.2 with 25 Axes>"
      ]
     },
     "metadata": {},
     "output_type": "display_data"
    }
   ],
   "source": [
    "plt.figure(figsize=(12.8, 9.6))\n",
    "for i in range(25):\n",
    "    plt.subplot(5, 5, i+1, xticks=[], yticks=[])\n",
    "    plt.imshow(test_images[i], cmap=plt.cm.binary)\n",
    "    plt.xlabel(\"Pred: \" + str(predictions[i]))\n",
    "    plt.ylabel(\"True: \" + str(test_labels[i]))"
   ]
  },
  {
   "cell_type": "code",
   "execution_count": 34,
   "metadata": {
    "scrolled": true
   },
   "outputs": [
    {
     "data": {
      "text/plain": [
       "<matplotlib.image.AxesImage at 0x26f6a897cc8>"
      ]
     },
     "execution_count": 34,
     "metadata": {},
     "output_type": "execute_result"
    },
    {
     "data": {
      "image/png": "[encoded data removed]",
      "text/plain": [
       "<Figure size 432x288 with 1 Axes>"
      ]
     },
     "metadata": {},
     "output_type": "display_data"
    }
   ],
   "source": [
    "plt.imshow(test_images[8], cmap=plt.cm.binary)"
   ]
  },
  {
   "cell_type": "code",
   "execution_count": null,
   "metadata": {},
   "outputs": [],
   "source": []
  }
 ],
 "metadata": {
  "kernelspec": {
   "display_name": "Python 3",
   "language": "python",
   "name": "python3"
  },
  "language_info": {
   "codemirror_mode": {
    "name": "ipython",
    "version": 3
   },
   "file_extension": ".py",
   "mimetype": "text/x-python",
   "name": "python",
   "nbconvert_exporter": "python",
   "pygments_lexer": "ipython3",
   "version": "3.7.9"
  }
 },
 "nbformat": 4,
 "nbformat_minor": 4
}
