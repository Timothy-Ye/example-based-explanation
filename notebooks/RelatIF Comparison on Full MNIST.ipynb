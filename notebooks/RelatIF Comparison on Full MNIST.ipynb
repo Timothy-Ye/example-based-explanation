{
 "cells": [
  {
   "cell_type": "code",
   "execution_count": 1,
   "metadata": {},
   "outputs": [],
   "source": [
    "import numpy as np\n",
    "import tensorflow as tf\n",
    "import matplotlib.pyplot as plt\n",
    "import seaborn as sns\n",
    "sns.set()"
   ]
  },
  {
   "cell_type": "code",
   "execution_count": 2,
   "metadata": {},
   "outputs": [],
   "source": [
    "mnist_dataset = tf.keras.datasets.mnist\n",
    "(train_images, train_labels), (test_images, test_labels) = mnist_dataset.load_data()\n",
    "\n",
    "train_images = train_images / 255.0\n",
    "test_images = test_images / 255.0\n",
    "\n",
    "categorical_train_labels = tf.keras.utils.to_categorical(train_labels)\n",
    "categorical_test_labels = tf.keras.utils.to_categorical(test_labels)"
   ]
  },
  {
   "cell_type": "code",
   "execution_count": 4,
   "metadata": {},
   "outputs": [
    {
     "ename": "FileNotFoundError",
     "evalue": "[Errno 2] No such file or directory: '../output/influence_model_on_full_mnist.npz'",
     "output_type": "error",
     "traceback": [
      "\u001b[1;31m---------------------------------------------------------------------------\u001b[0m",
      "\u001b[1;31mFileNotFoundError\u001b[0m                         Traceback (most recent call last)",
      "\u001b[1;32m<ipython-input-4-7d85a4af7289>\u001b[0m in \u001b[0;36m<module>\u001b[1;34m\u001b[0m\n\u001b[1;32m----> 1\u001b[1;33m \u001b[0msaved_data\u001b[0m \u001b[1;33m=\u001b[0m \u001b[0mnp\u001b[0m\u001b[1;33m.\u001b[0m\u001b[0mload\u001b[0m\u001b[1;33m(\u001b[0m\u001b[1;34m'../output/influence_model_on_full_mnist.npz'\u001b[0m\u001b[1;33m)\u001b[0m\u001b[1;33m\u001b[0m\u001b[1;33m\u001b[0m\u001b[0m\n\u001b[0m\u001b[0;32m      2\u001b[0m \u001b[0minfluence_values\u001b[0m \u001b[1;33m=\u001b[0m \u001b[0msaved_data\u001b[0m\u001b[1;33m[\u001b[0m\u001b[1;34m'influence_values'\u001b[0m\u001b[1;33m]\u001b[0m\u001b[1;33m\u001b[0m\u001b[1;33m\u001b[0m\u001b[0m\n\u001b[0;32m      3\u001b[0m \u001b[0mtheta_relatif_values\u001b[0m \u001b[1;33m=\u001b[0m \u001b[0msaved_data\u001b[0m\u001b[1;33m[\u001b[0m\u001b[1;34m'theta_relatif_values'\u001b[0m\u001b[1;33m]\u001b[0m\u001b[1;33m\u001b[0m\u001b[1;33m\u001b[0m\u001b[0m\n\u001b[0;32m      4\u001b[0m \u001b[0ml_relatif_values\u001b[0m \u001b[1;33m=\u001b[0m \u001b[0msaved_data\u001b[0m\u001b[1;33m[\u001b[0m\u001b[1;34m'l_relatif_values'\u001b[0m\u001b[1;33m]\u001b[0m\u001b[1;33m\u001b[0m\u001b[1;33m\u001b[0m\u001b[0m\n",
      "\u001b[1;32mE:\\Users\\MapleToon\\anaconda3\\envs\\example-based-explanation\\lib\\site-packages\\numpy\\lib\\npyio.py\u001b[0m in \u001b[0;36mload\u001b[1;34m(file, mmap_mode, allow_pickle, fix_imports, encoding)\u001b[0m\n\u001b[0;32m    414\u001b[0m             \u001b[0mown_fid\u001b[0m \u001b[1;33m=\u001b[0m \u001b[1;32mFalse\u001b[0m\u001b[1;33m\u001b[0m\u001b[1;33m\u001b[0m\u001b[0m\n\u001b[0;32m    415\u001b[0m         \u001b[1;32melse\u001b[0m\u001b[1;33m:\u001b[0m\u001b[1;33m\u001b[0m\u001b[1;33m\u001b[0m\u001b[0m\n\u001b[1;32m--> 416\u001b[1;33m             \u001b[0mfid\u001b[0m \u001b[1;33m=\u001b[0m \u001b[0mstack\u001b[0m\u001b[1;33m.\u001b[0m\u001b[0menter_context\u001b[0m\u001b[1;33m(\u001b[0m\u001b[0mopen\u001b[0m\u001b[1;33m(\u001b[0m\u001b[0mos_fspath\u001b[0m\u001b[1;33m(\u001b[0m\u001b[0mfile\u001b[0m\u001b[1;33m)\u001b[0m\u001b[1;33m,\u001b[0m \u001b[1;34m\"rb\"\u001b[0m\u001b[1;33m)\u001b[0m\u001b[1;33m)\u001b[0m\u001b[1;33m\u001b[0m\u001b[1;33m\u001b[0m\u001b[0m\n\u001b[0m\u001b[0;32m    417\u001b[0m             \u001b[0mown_fid\u001b[0m \u001b[1;33m=\u001b[0m \u001b[1;32mTrue\u001b[0m\u001b[1;33m\u001b[0m\u001b[1;33m\u001b[0m\u001b[0m\n\u001b[0;32m    418\u001b[0m \u001b[1;33m\u001b[0m\u001b[0m\n",
      "\u001b[1;31mFileNotFoundError\u001b[0m: [Errno 2] No such file or directory: '../output/influence_model_on_full_mnist.npz'"
     ]
    }
   ],
   "source": [
    "saved_data = np.load('../output/influence_model_on_full_mnist.npz')\n",
    "influence_values = saved_data['influence_values']\n",
    "theta_relatif_values = saved_data['theta_relatif_values']\n",
    "l_relatif_values = saved_data['l_relatif_values']"
   ]
  },
  {
   "cell_type": "code",
   "execution_count": null,
   "metadata": {},
   "outputs": [],
   "source": [
    "(num_training_points, num_test_points) = influence_values.shape\n",
    "print(\"{} training points, {} test points.\".format(num_training_points, num_test_points))"
   ]
  },
  {
   "cell_type": "code",
   "execution_count": null,
   "metadata": {},
   "outputs": [],
   "source": [
    "influence_idxs = np.argsort(influence_values, axis=0)\n",
    "theta_relatif_idxs = np.argsort(theta_relatif_values, axis=0)\n",
    "l_relatif_idxs = np.argsort(l_relatif_values, axis=0)"
   ]
  },
  {
   "cell_type": "markdown",
   "metadata": {},
   "source": [
    "## Visualising Most Influential Points"
   ]
  },
  {
   "cell_type": "code",
   "execution_count": null,
   "metadata": {},
   "outputs": [],
   "source": [
    "num_test_points_to_show = 8\n",
    "num_most_influential_to_show = 5"
   ]
  },
  {
   "cell_type": "markdown",
   "metadata": {},
   "source": [
    "### Influence Functions"
   ]
  },
  {
   "cell_type": "code",
   "execution_count": null,
   "metadata": {},
   "outputs": [],
   "source": [
    "fig, ax = plt.subplots(\n",
    "    num_test_points_to_show,\n",
    "    num_most_influential_to_show+1,\n",
    "    subplot_kw={'xticks':[], 'yticks':[]},\n",
    "    figsize=(12.8, 9.6)\n",
    ")\n",
    "fig.subplots_adjust(hspace=0.4)\n",
    "\n",
    "ax[0,0].set_title(\"Test Point\")\n",
    "ax[0,(num_most_influential_to_show+1)//2].set_title(\"Most Influential Points\")\n",
    "\n",
    "for i in range(num_test_points_to_show):\n",
    "    ax[i,0].imshow(test_images[i], cmap=plt.cm.binary)\n",
    "    for j in range(num_most_influential_to_show):\n",
    "        ax[i,j+1].imshow(train_images[influence_idxs[j,i]], cmap=plt.cm.binary)\n",
    "        ax[i,j+1].set_xlabel(\"idx: {}\".format(influence_idxs[j,i]))"
   ]
  },
  {
   "cell_type": "markdown",
   "metadata": {},
   "source": [
    "### $\\theta$-Relatif"
   ]
  },
  {
   "cell_type": "code",
   "execution_count": null,
   "metadata": {},
   "outputs": [],
   "source": [
    "fig, ax = plt.subplots(\n",
    "    num_test_points_to_show,\n",
    "    num_most_influential_to_show+1,\n",
    "    subplot_kw={'xticks':[], 'yticks':[]},\n",
    "    figsize=(12.8, 9.6)\n",
    ")\n",
    "fig.subplots_adjust(hspace=0.4)\n",
    "\n",
    "ax[0,0].set_title(\"Test Point\")\n",
    "ax[0,(num_most_influential_to_show+1)//2].set_title(\"Most Influential Points\")\n",
    "\n",
    "for i in range(num_test_points_to_show):\n",
    "    ax[i,0].imshow(test_images[i], cmap=plt.cm.binary)\n",
    "    for j in range(num_most_influential_to_show):\n",
    "        ax[i,j+1].imshow(train_images[theta_relatif_idxs[j,i]], cmap=plt.cm.binary)\n",
    "        ax[i,j+1].set_xlabel(\"idx: {}\".format(theta_relatif_idxs[j,i]))"
   ]
  },
  {
   "cell_type": "markdown",
   "metadata": {},
   "source": [
    "### $l$-Relatif"
   ]
  },
  {
   "cell_type": "code",
   "execution_count": null,
   "metadata": {
    "scrolled": false
   },
   "outputs": [],
   "source": [
    "fig, ax = plt.subplots(\n",
    "    num_test_points_to_show,\n",
    "    num_most_influential_to_show+1,\n",
    "    subplot_kw={'xticks':[], 'yticks':[]},\n",
    "    figsize=(12.8, 9.6)\n",
    ")\n",
    "fig.subplots_adjust(hspace=0.4)\n",
    "\n",
    "ax[0,0].set_title(\"Test Point\")\n",
    "ax[0,(num_most_influential_to_show+1)//2].set_title(\"Most Influential Points\")\n",
    "\n",
    "for i in range(num_test_points_to_show):\n",
    "    ax[i,0].imshow(test_images[i], cmap=plt.cm.binary)\n",
    "    for j in range(num_most_influential_to_show):\n",
    "        ax[i,j+1].imshow(train_images[l_relatif_idxs[j,i]], cmap=plt.cm.binary)\n",
    "        ax[i,j+1].set_xlabel(\"idx: {}\".format(l_relatif_idxs[j,i]))"
   ]
  },
  {
   "cell_type": "markdown",
   "metadata": {},
   "source": [
    "## Comparing Number of Unique Points"
   ]
  },
  {
   "cell_type": "code",
   "execution_count": null,
   "metadata": {},
   "outputs": [],
   "source": [
    "num_test_points_to_compare = num_test_points\n",
    "num_most_influential_to_include = 5"
   ]
  },
  {
   "cell_type": "markdown",
   "metadata": {},
   "source": [
    "### Influence Functions"
   ]
  },
  {
   "cell_type": "code",
   "execution_count": null,
   "metadata": {},
   "outputs": [],
   "source": [
    "len(np.unique(influence_idxs[:num_most_influential_to_include, :num_test_points_to_compare]))"
   ]
  },
  {
   "cell_type": "markdown",
   "metadata": {},
   "source": [
    "### $\\theta$-RelatIF"
   ]
  },
  {
   "cell_type": "code",
   "execution_count": null,
   "metadata": {},
   "outputs": [],
   "source": [
    "len(np.unique(theta_relatif_idxs[:num_most_influential_to_include, :num_test_points_to_compare]))"
   ]
  },
  {
   "cell_type": "markdown",
   "metadata": {},
   "source": [
    "### $l$-RelatIF"
   ]
  },
  {
   "cell_type": "code",
   "execution_count": null,
   "metadata": {},
   "outputs": [],
   "source": [
    "len(np.unique(l_relatif_idxs[:num_most_influential_to_include, :num_test_points_to_compare]))"
   ]
  }
 ],
 "metadata": {
  "kernelspec": {
   "display_name": "Python 3",
   "language": "python",
   "name": "python3"
  },
  "language_info": {
   "codemirror_mode": {
    "name": "ipython",
    "version": 3
   },
   "file_extension": ".py",
   "mimetype": "text/x-python",
   "name": "python",
   "nbconvert_exporter": "python",
   "pygments_lexer": "ipython3",
   "version": "3.7.9"
  }
 },
 "nbformat": 4,
 "nbformat_minor": 4
}
