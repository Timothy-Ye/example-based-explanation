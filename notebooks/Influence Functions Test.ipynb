{
 "cells": [
  {
   "cell_type": "code",
   "execution_count": 1,
   "metadata": {},
   "outputs": [],
   "source": [
    "import numpy as np\n",
    "import tensorflow as tf"
   ]
  },
  {
   "cell_type": "code",
   "execution_count": 2,
   "metadata": {},
   "outputs": [],
   "source": [
    "import sys\n",
    "sys.path.append('../')"
   ]
  },
  {
   "cell_type": "code",
   "execution_count": 3,
   "metadata": {},
   "outputs": [],
   "source": [
    "import influence.core"
   ]
  },
  {
   "cell_type": "code",
   "execution_count": 4,
   "metadata": {},
   "outputs": [
    {
     "name": "stdout",
     "output_type": "stream",
     "text": [
      "Train on 60000 samples\n",
      "Epoch 1/10\n",
      "60000/60000 [==============================] - 3s 49us/sample - loss: 0.9651 - accuracy: 0.7864\n",
      "Epoch 2/10\n",
      "60000/60000 [==============================] - 3s 43us/sample - loss: 0.8484 - accuracy: 0.8087\n",
      "Epoch 3/10\n",
      "60000/60000 [==============================] - 2s 37us/sample - loss: 0.8461 - accuracy: 0.8100\n",
      "Epoch 4/10\n",
      "60000/60000 [==============================] - 2s 40us/sample - loss: 0.8437 - accuracy: 0.8101\n",
      "Epoch 5/10\n",
      "60000/60000 [==============================] - 2s 37us/sample - loss: 0.8426 - accuracy: 0.8118\n",
      "Epoch 6/10\n",
      "60000/60000 [==============================] - 2s 37us/sample - loss: 0.8392 - accuracy: 0.8137\n",
      "Epoch 7/10\n",
      "60000/60000 [==============================] - 2s 38us/sample - loss: 0.8384 - accuracy: 0.8152\n",
      "Epoch 8/10\n",
      "60000/60000 [==============================] - 2s 38us/sample - loss: 0.8379 - accuracy: 0.8147\n",
      "Epoch 9/10\n",
      "60000/60000 [==============================] - 2s 39us/sample - loss: 0.8388 - accuracy: 0.8134\n",
      "Epoch 10/10\n",
      "60000/60000 [==============================] - 2s 38us/sample - loss: 0.8360 - accuracy: 0.8148\n"
     ]
    },
    {
     "data": {
      "text/plain": [
       "<tensorflow.python.keras.callbacks.History at 0x1699258cd88>"
      ]
     },
     "execution_count": 4,
     "metadata": {},
     "output_type": "execute_result"
    }
   ],
   "source": [
    "# Simple Keras model for MNIST Fashion Dataset, based on TensorFlow tutorials.\n",
    "\n",
    "fashion_mnist = tf.keras.datasets.fashion_mnist\n",
    "\n",
    "(train_images, train_labels), (test_images, test_labels) = fashion_mnist.load_data()\n",
    "\n",
    "class_names = ['T-shirt/top', 'Trouser', 'Pullover', 'Dress', 'Coat',\n",
    "               'Sandal', 'Shirt', 'Sneaker', 'Bag', 'Ankle boot']\n",
    "\n",
    "train_images = train_images / 255.0\n",
    "test_images = test_images / 255.0\n",
    "\n",
    "train_labels = tf.keras.utils.to_categorical(train_labels)\n",
    "test_labels = tf.keras.utils.to_categorical(test_labels)\n",
    "\n",
    "tf.keras.backend.set_floatx('float64')\n",
    "\n",
    "model = tf.keras.Sequential([\n",
    "    tf.keras.layers.Flatten(input_shape=(28, 28)),\n",
    "    tf.keras.layers.Dense(32, activation='relu', kernel_regularizer='l2', bias_regularizer='l2'),\n",
    "    tf.keras.layers.Dense(10, kernel_regularizer='l2', bias_regularizer='l2')\n",
    "])\n",
    "\n",
    "model.compile(optimizer='adam',\n",
    "              loss=tf.keras.losses.CategoricalCrossentropy(from_logits=True),\n",
    "              metrics=['accuracy'])\n",
    "\n",
    "model.fit(train_images, train_labels, epochs=10)"
   ]
  },
  {
   "cell_type": "code",
   "execution_count": 5,
   "metadata": {},
   "outputs": [
    {
     "name": "stdout",
     "output_type": "stream",
     "text": [
      "CG Loss:  -0.0004290167613133511 ; CG Jac Norm: 0.002203352496758778\n",
      "CG Loss:  -0.00047719155690849487 ; CG Jac Norm: 0.0033810682945275175\n",
      "CG Loss:  -0.0005615974371636907 ; CG Jac Norm: 0.0018236006736788702\n",
      "CG Loss:  -0.0005851410556477217 ; CG Jac Norm: 0.0008524014535903948\n",
      "CG Loss:  -0.0005886853461434129 ; CG Jac Norm: 0.0003030754354808478\n",
      "CG Loss:  -0.0005899238958210812 ; CG Jac Norm: 0.0001764428191624408\n",
      "CG Loss:  -0.0005903388874770084 ; CG Jac Norm: 0.00015054706464768955\n",
      "CG Loss:  -0.0005908016474422606 ; CG Jac Norm: 0.00017097305776772774\n",
      "CG Loss:  -0.0005909764488406723 ; CG Jac Norm: 0.000121338418214732\n",
      "CG Loss:  -0.0005910672932613771 ; CG Jac Norm: 9.607134182873029e-05\n",
      "CG Loss:  -0.0005911238960279539 ; CG Jac Norm: 8.935967587915569e-05\n",
      "CG Loss:  -0.000591181796644778 ; CG Jac Norm: 3.7970699257014587e-05\n",
      "Optimization terminated successfully.\n",
      "         Current function value: -0.000591\n",
      "         Iterations: 12\n",
      "         Function evaluations: 38\n",
      "         Gradient evaluations: 38\n"
     ]
    },
    {
     "data": {
      "text/plain": [
       "0.6255234919475052"
      ]
     },
     "execution_count": 5,
     "metadata": {},
     "output_type": "execute_result"
    }
   ],
   "source": [
    "influence.core.get_influence(\n",
    "    model,\n",
    "    train_images,\n",
    "    train_labels,\n",
    "    train_images[0:1],\n",
    "    train_labels[0:1],\n",
    "    test_images[0:1],\n",
    "    test_labels[0:1],\n",
    "    scaling=0.01,\n",
    "    damping=0.01,\n",
    "    verbose=True\n",
    ")"
   ]
  },
  {
   "cell_type": "code",
   "execution_count": null,
   "metadata": {},
   "outputs": [],
   "source": []
  }
 ],
 "metadata": {
  "kernelspec": {
   "display_name": "Python 3",
   "language": "python",
   "name": "python3"
  },
  "language_info": {
   "codemirror_mode": {
    "name": "ipython",
    "version": 3
   },
   "file_extension": ".py",
   "mimetype": "text/x-python",
   "name": "python",
   "nbconvert_exporter": "python",
   "pygments_lexer": "ipython3",
   "version": "3.7.9"
  }
 },
 "nbformat": 4,
 "nbformat_minor": 4
}
